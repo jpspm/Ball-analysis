{
 "cells": [
  {
   "cell_type": "code",
   "execution_count": 138,
   "metadata": {},
   "outputs": [
    {
     "name": "stdout",
     "output_type": "stream",
     "text": [
      "Defaulting to user installation because normal site-packages is not writeable\n",
      "Requirement already satisfied: pandas in /home/jp/.local/lib/python3.10/site-packages (1.4.2)\n",
      "Requirement already satisfied: pytz>=2020.1 in /usr/lib/python3/dist-packages (from pandas) (2022.1)\n",
      "Requirement already satisfied: python-dateutil>=2.8.1 in /home/jp/.local/lib/python3.10/site-packages (from pandas) (2.8.2)\n",
      "Requirement already satisfied: numpy>=1.21.0 in /home/jp/.local/lib/python3.10/site-packages (from pandas) (1.22.3)\n",
      "Requirement already satisfied: six>=1.5 in /usr/lib/python3/dist-packages (from python-dateutil>=2.8.1->pandas) (1.16.0)\n",
      "Defaulting to user installation because normal site-packages is not writeable\n",
      "Requirement already satisfied: matplotlib in /home/jp/.local/lib/python3.10/site-packages (3.5.2)\n",
      "Requirement already satisfied: fonttools>=4.22.0 in /home/jp/.local/lib/python3.10/site-packages (from matplotlib) (4.33.3)\n",
      "Requirement already satisfied: kiwisolver>=1.0.1 in /home/jp/.local/lib/python3.10/site-packages (from matplotlib) (1.4.2)\n",
      "Requirement already satisfied: pillow>=6.2.0 in /usr/lib/python3/dist-packages (from matplotlib) (9.0.1)\n",
      "Requirement already satisfied: python-dateutil>=2.7 in /home/jp/.local/lib/python3.10/site-packages (from matplotlib) (2.8.2)\n",
      "Requirement already satisfied: numpy>=1.17 in /home/jp/.local/lib/python3.10/site-packages (from matplotlib) (1.22.3)\n",
      "Requirement already satisfied: cycler>=0.10 in /home/jp/.local/lib/python3.10/site-packages (from matplotlib) (0.11.0)\n",
      "Requirement already satisfied: pyparsing>=2.2.1 in /usr/lib/python3/dist-packages (from matplotlib) (2.4.7)\n",
      "Requirement already satisfied: packaging>=20.0 in /home/jp/.local/lib/python3.10/site-packages (from matplotlib) (21.3)\n",
      "Requirement already satisfied: six>=1.5 in /usr/lib/python3/dist-packages (from python-dateutil>=2.7->matplotlib) (1.16.0)\n",
      "Defaulting to user installation because normal site-packages is not writeable\n",
      "Requirement already satisfied: numpy in /home/jp/.local/lib/python3.10/site-packages (1.22.3)\n",
      "Defaulting to user installation because normal site-packages is not writeable\n",
      "Requirement already satisfied: plotly in /home/jp/.local/lib/python3.10/site-packages (5.8.0)\n",
      "Requirement already satisfied: express in /home/jp/.local/lib/python3.10/site-packages (0.1.5)\n",
      "Requirement already satisfied: tenacity>=6.2.0 in /home/jp/.local/lib/python3.10/site-packages (from plotly) (8.0.1)\n",
      "Requirement already satisfied: dateparser<2.0.0,>=1.1.0 in /home/jp/.local/lib/python3.10/site-packages (from express) (1.1.1)\n",
      "Requirement already satisfied: Jinja2<4.0.0,>=3.0.3 in /home/jp/.local/lib/python3.10/site-packages (from express) (3.1.2)\n",
      "Requirement already satisfied: tzlocal in /home/jp/.local/lib/python3.10/site-packages (from dateparser<2.0.0,>=1.1.0->express) (4.2)\n",
      "Requirement already satisfied: regex!=2019.02.19,!=2021.8.27,<2022.3.15 in /home/jp/.local/lib/python3.10/site-packages (from dateparser<2.0.0,>=1.1.0->express) (2022.3.2)\n",
      "Requirement already satisfied: python-dateutil in /home/jp/.local/lib/python3.10/site-packages (from dateparser<2.0.0,>=1.1.0->express) (2.8.2)\n",
      "Requirement already satisfied: pytz in /usr/lib/python3/dist-packages (from dateparser<2.0.0,>=1.1.0->express) (2022.1)\n",
      "Requirement already satisfied: MarkupSafe>=2.0 in /home/jp/.local/lib/python3.10/site-packages (from Jinja2<4.0.0,>=3.0.3->express) (2.1.1)\n",
      "Requirement already satisfied: six>=1.5 in /usr/lib/python3/dist-packages (from python-dateutil->dateparser<2.0.0,>=1.1.0->express) (1.16.0)\n",
      "Requirement already satisfied: pytz-deprecation-shim in /home/jp/.local/lib/python3.10/site-packages (from tzlocal->dateparser<2.0.0,>=1.1.0->express) (0.1.0.post0)\n",
      "Requirement already satisfied: tzdata in /home/jp/.local/lib/python3.10/site-packages (from pytz-deprecation-shim->tzlocal->dateparser<2.0.0,>=1.1.0->express) (2022.1)\n",
      "Defaulting to user installation because normal site-packages is not writeable\n",
      "Requirement already satisfied: scikit-learn in /home/jp/.local/lib/python3.10/site-packages (1.1.0)\n",
      "Requirement already satisfied: numpy>=1.17.3 in /home/jp/.local/lib/python3.10/site-packages (from scikit-learn) (1.22.3)\n",
      "Requirement already satisfied: scipy>=1.3.2 in /home/jp/.local/lib/python3.10/site-packages (from scikit-learn) (1.8.0)\n",
      "Requirement already satisfied: joblib>=1.0.0 in /home/jp/.local/lib/python3.10/site-packages (from scikit-learn) (1.1.0)\n",
      "Requirement already satisfied: threadpoolctl>=2.0.0 in /home/jp/.local/lib/python3.10/site-packages (from scikit-learn) (3.1.0)\n",
      "Defaulting to user installation because normal site-packages is not writeable\n",
      "Collecting sklearn\n",
      "  Downloading sklearn-0.0.tar.gz (1.1 kB)\n",
      "  Preparing metadata (setup.py) ... \u001b[?25ldone\n",
      "\u001b[?25hRequirement already satisfied: scikit-learn in /home/jp/.local/lib/python3.10/site-packages (from sklearn) (1.1.0)\n",
      "Requirement already satisfied: threadpoolctl>=2.0.0 in /home/jp/.local/lib/python3.10/site-packages (from scikit-learn->sklearn) (3.1.0)\n",
      "Requirement already satisfied: joblib>=1.0.0 in /home/jp/.local/lib/python3.10/site-packages (from scikit-learn->sklearn) (1.1.0)\n",
      "Requirement already satisfied: scipy>=1.3.2 in /home/jp/.local/lib/python3.10/site-packages (from scikit-learn->sklearn) (1.8.0)\n",
      "Requirement already satisfied: numpy>=1.17.3 in /home/jp/.local/lib/python3.10/site-packages (from scikit-learn->sklearn) (1.22.3)\n",
      "Building wheels for collected packages: sklearn\n",
      "  Building wheel for sklearn (setup.py) ... \u001b[?25ldone\n",
      "\u001b[?25h  Created wheel for sklearn: filename=sklearn-0.0-py2.py3-none-any.whl size=1310 sha256=a30a2923b4388d5a8111063a3be036c0b84ea609575f00c359209801990e87bb\n",
      "  Stored in directory: /home/jp/.cache/pip/wheels/9b/13/01/6f3a7fd641f90e1f6c8c7cded057f3394f451f340371c68f3d\n",
      "Successfully built sklearn\n",
      "Installing collected packages: sklearn\n",
      "Successfully installed sklearn-0.0\n"
     ]
    }
   ],
   "source": [
    "!pip3 install pandas\n",
    "!pip3 install matplotlib\n",
    "!pip3 install numpy\n",
    "!pip install plotly express\n",
    "!pip install scikit-learn\n",
    "!pip install sklearn"
   ]
  },
  {
   "cell_type": "code",
   "execution_count": 140,
   "metadata": {},
   "outputs": [],
   "source": [
    "import pandas as pd\n",
    "import matplotlib.pyplot as plt\n",
    "import numpy as np\n",
    "import plotly.express as px\n",
    "from sklearn import linear_model\n",
    "from sklearn.metrics import mean_squared_error, r2_score"
   ]
  },
  {
   "cell_type": "code",
   "execution_count": 3,
   "metadata": {},
   "outputs": [],
   "source": [
    "def getModule(x,y):\n",
    "    return np.sqrt(x**2 + y**2)"
   ]
  },
  {
   "cell_type": "code",
   "execution_count": 4,
   "metadata": {},
   "outputs": [],
   "source": [
    "def getDf(df, first):\n",
    "    dfplot = pd.DataFrame(columns=['posicao', 'velocidade'])\n",
    "    for i in range(len(df)):\n",
    "        x = df.iloc[i][0] - first[0]\n",
    "        y = df.iloc[i][1] - first[1]\n",
    "        v = df.iloc[i][2] \n",
    "        module = getModule(x,y)\n",
    "        dfplot.loc[i] = [module, v]\n",
    "    return dfplot"
   ]
  },
  {
   "cell_type": "code",
   "execution_count": 233,
   "metadata": {},
   "outputs": [
    {
     "data": {
      "application/vnd.plotly.v1+json": {
       "config": {
        "plotlyServerURL": "https://plot.ly"
       },
       "data": [
        {
         "hovertemplate": "posicao=%{x}<br>velocidade=%{y}<extra></extra>",
         "legendgroup": "",
         "line": {
          "color": "#636efa",
          "dash": "solid"
         },
         "marker": {
          "symbol": "circle"
         },
         "mode": "lines",
         "name": "",
         "orientation": "v",
         "showlegend": false,
         "type": "scatter",
         "x": [
          335.41823669711226,
          389.6847041779418,
          442.12292373338903,
          492.9626552635504,
          541.9354568610638,
          594.1746656362927,
          642.3777601553858,
          691.0910280898242,
          740.3303867598847,
          784.3834234733929,
          831.3606002354456,
          873.6371714934296,
          916.810751923449,
          958.964489301997,
          1000.0681051323654,
          1041.1839670125737,
          1083.2412797654272,
          1123.7313965594449,
          1159.0855627899264,
          1196.641485279881,
          1231.7569297730947,
          1268.0243834724317,
          1307.2021720233026,
          1340.754632403722,
          1378.9161786411964,
          1411.3081307059915,
          1450.1600782260696,
          1487.451681224718,
          1522.1416295698768,
          1559.9378530638458,
          1631.605163464997,
          1667.4283313116762,
          1701.317526462371,
          1736.0244228948047,
          1771.3555198218228,
          1805.4037535615796,
          1840.333803920593,
          1876.758705841068,
          1911.379593191431,
          1945.7640487035012,
          1980.461938708654,
          2051.3918178426666,
          2085.281978718811,
          2121.0712865954883,
          2156.6511697060423,
          2187.750675922977,
          2221.779919269377,
          2257.6189545655043,
          2288.879247399705,
          2322.220253623123,
          2360.8801972623346,
          2394.4548471547846,
          2425.80981861432,
          2457.6273010162145,
          2492.884727006213,
          2561.162432033908,
          2597.4752862869436,
          2627.134347685371,
          2661.3452949822276,
          2692.4604718951105,
          2726.5019033815547,
          2759.5399002804875,
          2793.385733772699,
          2824.3814415266293,
          2857.351965622723,
          2891.6922979784417,
          2922.5990770122817,
          2957.7114479368743,
          2987.301642643448,
          3019.2351659358105,
          3053.329778226689,
          3088.5431497219265,
          3122.0695889109265,
          3145.5848741970135,
          3183.815206899056,
          3214.7459001680572,
          3246.76656671995,
          3278.1665801382114,
          3340.60663338168,
          3403.767869829675,
          3437.099161519208,
          3466.281408988174,
          3496.423552748157,
          3529.415148982936,
          3559.36715790232,
          3589.376578944851,
          3624.004978650808,
          3655.1960016652793,
          3681.8756332244902,
          3713.0442246688417,
          3773.6904028941276,
          3804.9723163777476,
          3837.075805580578,
          3862.517490397272,
          3897.316733418935,
          3925.5979009879043,
          3955.303876160344,
          3983.6102292925502,
          4015.974559082545,
          4047.288880620339,
          4073.8148876840046,
          4103.413537708044,
          4133.684581245361,
          4164.654634758451,
          4196.243553646052,
          4222.28915410653,
          4251.93753067392,
          4280.916635851164,
          4310.44569899743,
          4340.048422964062,
          4368.3665972816925,
          4395.7841613125465,
          4483.463750452839,
          4511.816882837139,
          4539.371571721799,
          4566.545001915107,
          4595.998488816988,
          4626.784884494809,
          4651.825909361618,
          4681.692808881916,
          4706.648050001194,
          4736.1361001451005,
          4765.42197156609,
          4819.736550230836,
          4848.718131419133,
          4875.382252267902,
          4929.294545367241,
          4958.518348270503,
          4984.686327800059,
          5012.267957985171,
          5038.217152778773,
          5065.947218146025,
          5091.930897668333,
          5118.88827186918,
          5145.978893539755,
          5174.064237476207,
          5199.015830347052,
          5225.395457366729,
          5253.586045530428,
          5280.089100807905,
          5328.612358726786,
          5356.6860679770325,
          5382.040198958666,
          5408.55319097964,
          5435.31524230739,
          5457.408509321328,
          5488.220710020675,
          5511.355911060729,
          5536.054444385518,
          5562.669664625506,
          5588.672893845697,
          5614.522907167736,
          5639.096192370533,
          5660.7741416689505,
          5689.364682591321,
          5711.582600094516,
          5738.977661356058,
          5763.354926058957,
          5786.680878346605,
          5815.09618662495,
          5835.784228982755,
          5860.79766578189,
          5887.496730423486,
          5906.7796065523935,
          5961.358189922565,
          6007.440669551372,
          6031.281177491034,
          6052.803226308208,
          6080.131970498653,
          6101.505266704917,
          6127.849060837191,
          6149.557796666622,
          6172.464400128043,
          6197.187671032276,
          6218.762942614298,
          6244.455608866417,
          6267.875837035753,
          6288.054644142276,
          6312.119852480991,
          6335.460899422854,
          6358.182666203468,
          6403.577560956988,
          6426.709615705057,
          6448.559700519167,
          6473.770478263486,
          6494.552648980208,
          6515.793756376565,
          6539.38753228709,
          6559.331943054251,
          6603.9838070725045,
          6624.083791371894,
          6650.218586674564,
          6693.03503443093,
          6712.085996904973,
          6733.205532374297,
          6758.055886976064,
          6777.558348217434,
          6798.834793481884,
          6819.601084088412,
          6841.9224263366095,
          6864.168446833443,
          6882.640710379108,
          6905.562235460618,
          6925.25585436898,
          6946.397354110104,
          6966.036691642087,
          7006.403620620485,
          7025.922688511441,
          7068.046310003623,
          7086.669922172744,
          7109.270309770183,
          7126.803149964495,
          7146.972233533012,
          7167.8944462948,
          7186.2165743845935,
          7208.506456851644,
          7228.257497758076,
          7248.747245232919,
          7288.079367382043,
          7307.587169459961,
          7323.23691208907,
          7341.777762107202,
          7365.863162181052,
          7381.99469941044,
          7398.255709408525,
          7419.149712540909,
          7437.46639764778,
          7456.917798795683,
          7476.552535120973,
          7494.183408632847,
          7512.960245703143,
          7529.75454872998,
          7549.6137201430265,
          7566.811251307108,
          7585.46351914264,
          7604.799031094763,
          7619.567654066197,
          7637.444905662353,
          7656.461724410816,
          7673.8725372937915,
          7708.244771002529,
          7726.766762948901,
          7746.664376491074,
          7761.350739901132,
          7780.943572317939,
          7796.598853158205,
          7813.3641218409775,
          7832.472492516258,
          7847.778390557664,
          7865.80392310054,
          7880.2992165602345,
          7914.896939873561,
          7930.255002407416,
          7949.2503909953575,
          7963.166400083314,
          7981.112718576768,
          7996.761021536897,
          8014.51789214472,
          8028.449154284022,
          8044.9248981546025,
          8057.570551250286,
          8076.864367591414,
          8095.1616529462735,
          8108.583701468453,
          8118.05423427904,
          8120.150315920257,
          8118.801203017589
         ],
         "xaxis": "x",
         "y": [
          3.53129,
          3.46679,
          3.40282,
          3.3431,
          3.28171,
          3.21767,
          3.15656,
          3.08816,
          3.03557,
          2.97347,
          2.91875,
          2.87079,
          2.80093,
          2.74807,
          2.72911,
          2.72747,
          2.7229,
          2.71902,
          2.71253,
          2.70511,
          2.69556,
          2.68626,
          2.6781,
          2.66751,
          2.65838,
          2.64712,
          2.63363,
          2.62502,
          2.61533,
          2.60532,
          2.59225,
          2.58264,
          2.56436,
          2.55458,
          2.54691,
          2.53629,
          2.50795,
          2.50035,
          2.4895,
          2.4761,
          2.46757,
          2.44594,
          2.43536,
          2.42068,
          2.41326,
          2.40204,
          2.39159,
          2.36117,
          2.35152,
          2.34195,
          2.3074,
          2.30035,
          2.28019,
          2.27072,
          2.25727,
          2.24459,
          2.23787,
          2.23171,
          2.22509,
          2.21979,
          2.21444,
          2.20929,
          2.20348,
          2.19866,
          2.19323,
          2.18801,
          2.18188,
          2.17578,
          2.171,
          2.16572,
          2.16058,
          2.15508,
          2.15113,
          2.14611,
          2.14082,
          2.134,
          2.12868,
          2.1181,
          2.11148,
          2.10004,
          2.09383,
          2.08848,
          2.08321,
          2.07785,
          2.0722,
          2.0656,
          2.06022,
          2.05502,
          2.04881,
          2.04265,
          2.03111,
          2.02633,
          2.02157,
          2.01644,
          2.01097,
          2.00572,
          2.00038,
          1.9953,
          1.99012,
          1.98458,
          1.97964,
          1.97409,
          1.9682,
          1.96367,
          1.95836,
          1.95277,
          1.94742,
          1.94222,
          1.93676,
          1.93152,
          1.92651,
          1.92119,
          1.90538,
          1.89995,
          1.89476,
          1.88959,
          1.88437,
          1.87918,
          1.87391,
          1.86854,
          1.86292,
          1.8575,
          1.85265,
          1.84223,
          1.8367,
          1.8309,
          1.82011,
          1.81489,
          1.80972,
          1.80482,
          1.7996,
          1.79453,
          1.78929,
          1.78421,
          1.77892,
          1.77411,
          1.76878,
          1.76361,
          1.75814,
          1.75275,
          1.74246,
          1.73717,
          1.73192,
          1.7262,
          1.72122,
          1.7162,
          1.71089,
          1.70571,
          1.70012,
          1.6949,
          1.68952,
          1.68475,
          1.67918,
          1.67374,
          1.66846,
          1.66327,
          1.65799,
          1.65289,
          1.64786,
          1.64246,
          1.63734,
          1.63174,
          1.62623,
          1.62117,
          1.61088,
          1.60035,
          1.59517,
          1.59497,
          1.58416,
          1.57928,
          1.57393,
          1.56853,
          1.56335,
          1.55778,
          1.5527,
          1.5475,
          1.54205,
          1.53689,
          1.53167,
          1.52649,
          1.52118,
          1.51049,
          1.50546,
          1.50011,
          1.49505,
          1.48991,
          1.48463,
          1.4792,
          1.47411,
          1.46343,
          1.45824,
          1.45274,
          1.44235,
          1.43725,
          1.43196,
          1.42681,
          1.42119,
          1.41618,
          1.41078,
          1.40563,
          1.40067,
          1.39519,
          1.39032,
          1.38527,
          1.37959,
          1.37429,
          1.36375,
          1.35825,
          1.3479,
          1.3425,
          1.3375,
          1.33224,
          1.32706,
          1.32185,
          1.31641,
          1.31093,
          1.30586,
          1.30061,
          1.29015,
          1.28476,
          1.27954,
          1.27449,
          1.269,
          1.26384,
          1.2587,
          1.25346,
          1.24821,
          1.24326,
          1.23788,
          1.23263,
          1.2273,
          1.2273,
          1.2169,
          1.21145,
          1.20642,
          1.2012,
          1.19588,
          1.19047,
          1.18517,
          1.1802,
          1.16973,
          1.16436,
          1.159,
          1.154,
          1.14927,
          1.14396,
          1.13859,
          1.13338,
          1.12795,
          1.12295,
          1.11752,
          1.10688,
          1.10165,
          1.12787,
          1.11646,
          1.1122,
          1.10757,
          1.10626,
          1.0989,
          1.0922,
          1.07713,
          1.07671,
          1.08376,
          1.07721,
          1.05385,
          0.993007,
          0.89821
         ],
         "yaxis": "y"
        }
       ],
       "layout": {
        "legend": {
         "tracegroupgap": 0
        },
        "margin": {
         "t": 60
        },
        "template": {
         "data": {
          "bar": [
           {
            "error_x": {
             "color": "#2a3f5f"
            },
            "error_y": {
             "color": "#2a3f5f"
            },
            "marker": {
             "line": {
              "color": "#E5ECF6",
              "width": 0.5
             },
             "pattern": {
              "fillmode": "overlay",
              "size": 10,
              "solidity": 0.2
             }
            },
            "type": "bar"
           }
          ],
          "barpolar": [
           {
            "marker": {
             "line": {
              "color": "#E5ECF6",
              "width": 0.5
             },
             "pattern": {
              "fillmode": "overlay",
              "size": 10,
              "solidity": 0.2
             }
            },
            "type": "barpolar"
           }
          ],
          "carpet": [
           {
            "aaxis": {
             "endlinecolor": "#2a3f5f",
             "gridcolor": "white",
             "linecolor": "white",
             "minorgridcolor": "white",
             "startlinecolor": "#2a3f5f"
            },
            "baxis": {
             "endlinecolor": "#2a3f5f",
             "gridcolor": "white",
             "linecolor": "white",
             "minorgridcolor": "white",
             "startlinecolor": "#2a3f5f"
            },
            "type": "carpet"
           }
          ],
          "choropleth": [
           {
            "colorbar": {
             "outlinewidth": 0,
             "ticks": ""
            },
            "type": "choropleth"
           }
          ],
          "contour": [
           {
            "colorbar": {
             "outlinewidth": 0,
             "ticks": ""
            },
            "colorscale": [
             [
              0,
              "#0d0887"
             ],
             [
              0.1111111111111111,
              "#46039f"
             ],
             [
              0.2222222222222222,
              "#7201a8"
             ],
             [
              0.3333333333333333,
              "#9c179e"
             ],
             [
              0.4444444444444444,
              "#bd3786"
             ],
             [
              0.5555555555555556,
              "#d8576b"
             ],
             [
              0.6666666666666666,
              "#ed7953"
             ],
             [
              0.7777777777777778,
              "#fb9f3a"
             ],
             [
              0.8888888888888888,
              "#fdca26"
             ],
             [
              1,
              "#f0f921"
             ]
            ],
            "type": "contour"
           }
          ],
          "contourcarpet": [
           {
            "colorbar": {
             "outlinewidth": 0,
             "ticks": ""
            },
            "type": "contourcarpet"
           }
          ],
          "heatmap": [
           {
            "colorbar": {
             "outlinewidth": 0,
             "ticks": ""
            },
            "colorscale": [
             [
              0,
              "#0d0887"
             ],
             [
              0.1111111111111111,
              "#46039f"
             ],
             [
              0.2222222222222222,
              "#7201a8"
             ],
             [
              0.3333333333333333,
              "#9c179e"
             ],
             [
              0.4444444444444444,
              "#bd3786"
             ],
             [
              0.5555555555555556,
              "#d8576b"
             ],
             [
              0.6666666666666666,
              "#ed7953"
             ],
             [
              0.7777777777777778,
              "#fb9f3a"
             ],
             [
              0.8888888888888888,
              "#fdca26"
             ],
             [
              1,
              "#f0f921"
             ]
            ],
            "type": "heatmap"
           }
          ],
          "heatmapgl": [
           {
            "colorbar": {
             "outlinewidth": 0,
             "ticks": ""
            },
            "colorscale": [
             [
              0,
              "#0d0887"
             ],
             [
              0.1111111111111111,
              "#46039f"
             ],
             [
              0.2222222222222222,
              "#7201a8"
             ],
             [
              0.3333333333333333,
              "#9c179e"
             ],
             [
              0.4444444444444444,
              "#bd3786"
             ],
             [
              0.5555555555555556,
              "#d8576b"
             ],
             [
              0.6666666666666666,
              "#ed7953"
             ],
             [
              0.7777777777777778,
              "#fb9f3a"
             ],
             [
              0.8888888888888888,
              "#fdca26"
             ],
             [
              1,
              "#f0f921"
             ]
            ],
            "type": "heatmapgl"
           }
          ],
          "histogram": [
           {
            "marker": {
             "pattern": {
              "fillmode": "overlay",
              "size": 10,
              "solidity": 0.2
             }
            },
            "type": "histogram"
           }
          ],
          "histogram2d": [
           {
            "colorbar": {
             "outlinewidth": 0,
             "ticks": ""
            },
            "colorscale": [
             [
              0,
              "#0d0887"
             ],
             [
              0.1111111111111111,
              "#46039f"
             ],
             [
              0.2222222222222222,
              "#7201a8"
             ],
             [
              0.3333333333333333,
              "#9c179e"
             ],
             [
              0.4444444444444444,
              "#bd3786"
             ],
             [
              0.5555555555555556,
              "#d8576b"
             ],
             [
              0.6666666666666666,
              "#ed7953"
             ],
             [
              0.7777777777777778,
              "#fb9f3a"
             ],
             [
              0.8888888888888888,
              "#fdca26"
             ],
             [
              1,
              "#f0f921"
             ]
            ],
            "type": "histogram2d"
           }
          ],
          "histogram2dcontour": [
           {
            "colorbar": {
             "outlinewidth": 0,
             "ticks": ""
            },
            "colorscale": [
             [
              0,
              "#0d0887"
             ],
             [
              0.1111111111111111,
              "#46039f"
             ],
             [
              0.2222222222222222,
              "#7201a8"
             ],
             [
              0.3333333333333333,
              "#9c179e"
             ],
             [
              0.4444444444444444,
              "#bd3786"
             ],
             [
              0.5555555555555556,
              "#d8576b"
             ],
             [
              0.6666666666666666,
              "#ed7953"
             ],
             [
              0.7777777777777778,
              "#fb9f3a"
             ],
             [
              0.8888888888888888,
              "#fdca26"
             ],
             [
              1,
              "#f0f921"
             ]
            ],
            "type": "histogram2dcontour"
           }
          ],
          "mesh3d": [
           {
            "colorbar": {
             "outlinewidth": 0,
             "ticks": ""
            },
            "type": "mesh3d"
           }
          ],
          "parcoords": [
           {
            "line": {
             "colorbar": {
              "outlinewidth": 0,
              "ticks": ""
             }
            },
            "type": "parcoords"
           }
          ],
          "pie": [
           {
            "automargin": true,
            "type": "pie"
           }
          ],
          "scatter": [
           {
            "fillpattern": {
             "fillmode": "overlay",
             "size": 10,
             "solidity": 0.2
            },
            "type": "scatter"
           }
          ],
          "scatter3d": [
           {
            "line": {
             "colorbar": {
              "outlinewidth": 0,
              "ticks": ""
             }
            },
            "marker": {
             "colorbar": {
              "outlinewidth": 0,
              "ticks": ""
             }
            },
            "type": "scatter3d"
           }
          ],
          "scattercarpet": [
           {
            "marker": {
             "colorbar": {
              "outlinewidth": 0,
              "ticks": ""
             }
            },
            "type": "scattercarpet"
           }
          ],
          "scattergeo": [
           {
            "marker": {
             "colorbar": {
              "outlinewidth": 0,
              "ticks": ""
             }
            },
            "type": "scattergeo"
           }
          ],
          "scattergl": [
           {
            "marker": {
             "colorbar": {
              "outlinewidth": 0,
              "ticks": ""
             }
            },
            "type": "scattergl"
           }
          ],
          "scattermapbox": [
           {
            "marker": {
             "colorbar": {
              "outlinewidth": 0,
              "ticks": ""
             }
            },
            "type": "scattermapbox"
           }
          ],
          "scatterpolar": [
           {
            "marker": {
             "colorbar": {
              "outlinewidth": 0,
              "ticks": ""
             }
            },
            "type": "scatterpolar"
           }
          ],
          "scatterpolargl": [
           {
            "marker": {
             "colorbar": {
              "outlinewidth": 0,
              "ticks": ""
             }
            },
            "type": "scatterpolargl"
           }
          ],
          "scatterternary": [
           {
            "marker": {
             "colorbar": {
              "outlinewidth": 0,
              "ticks": ""
             }
            },
            "type": "scatterternary"
           }
          ],
          "surface": [
           {
            "colorbar": {
             "outlinewidth": 0,
             "ticks": ""
            },
            "colorscale": [
             [
              0,
              "#0d0887"
             ],
             [
              0.1111111111111111,
              "#46039f"
             ],
             [
              0.2222222222222222,
              "#7201a8"
             ],
             [
              0.3333333333333333,
              "#9c179e"
             ],
             [
              0.4444444444444444,
              "#bd3786"
             ],
             [
              0.5555555555555556,
              "#d8576b"
             ],
             [
              0.6666666666666666,
              "#ed7953"
             ],
             [
              0.7777777777777778,
              "#fb9f3a"
             ],
             [
              0.8888888888888888,
              "#fdca26"
             ],
             [
              1,
              "#f0f921"
             ]
            ],
            "type": "surface"
           }
          ],
          "table": [
           {
            "cells": {
             "fill": {
              "color": "#EBF0F8"
             },
             "line": {
              "color": "white"
             }
            },
            "header": {
             "fill": {
              "color": "#C8D4E3"
             },
             "line": {
              "color": "white"
             }
            },
            "type": "table"
           }
          ]
         },
         "layout": {
          "annotationdefaults": {
           "arrowcolor": "#2a3f5f",
           "arrowhead": 0,
           "arrowwidth": 1
          },
          "autotypenumbers": "strict",
          "coloraxis": {
           "colorbar": {
            "outlinewidth": 0,
            "ticks": ""
           }
          },
          "colorscale": {
           "diverging": [
            [
             0,
             "#8e0152"
            ],
            [
             0.1,
             "#c51b7d"
            ],
            [
             0.2,
             "#de77ae"
            ],
            [
             0.3,
             "#f1b6da"
            ],
            [
             0.4,
             "#fde0ef"
            ],
            [
             0.5,
             "#f7f7f7"
            ],
            [
             0.6,
             "#e6f5d0"
            ],
            [
             0.7,
             "#b8e186"
            ],
            [
             0.8,
             "#7fbc41"
            ],
            [
             0.9,
             "#4d9221"
            ],
            [
             1,
             "#276419"
            ]
           ],
           "sequential": [
            [
             0,
             "#0d0887"
            ],
            [
             0.1111111111111111,
             "#46039f"
            ],
            [
             0.2222222222222222,
             "#7201a8"
            ],
            [
             0.3333333333333333,
             "#9c179e"
            ],
            [
             0.4444444444444444,
             "#bd3786"
            ],
            [
             0.5555555555555556,
             "#d8576b"
            ],
            [
             0.6666666666666666,
             "#ed7953"
            ],
            [
             0.7777777777777778,
             "#fb9f3a"
            ],
            [
             0.8888888888888888,
             "#fdca26"
            ],
            [
             1,
             "#f0f921"
            ]
           ],
           "sequentialminus": [
            [
             0,
             "#0d0887"
            ],
            [
             0.1111111111111111,
             "#46039f"
            ],
            [
             0.2222222222222222,
             "#7201a8"
            ],
            [
             0.3333333333333333,
             "#9c179e"
            ],
            [
             0.4444444444444444,
             "#bd3786"
            ],
            [
             0.5555555555555556,
             "#d8576b"
            ],
            [
             0.6666666666666666,
             "#ed7953"
            ],
            [
             0.7777777777777778,
             "#fb9f3a"
            ],
            [
             0.8888888888888888,
             "#fdca26"
            ],
            [
             1,
             "#f0f921"
            ]
           ]
          },
          "colorway": [
           "#636efa",
           "#EF553B",
           "#00cc96",
           "#ab63fa",
           "#FFA15A",
           "#19d3f3",
           "#FF6692",
           "#B6E880",
           "#FF97FF",
           "#FECB52"
          ],
          "font": {
           "color": "#2a3f5f"
          },
          "geo": {
           "bgcolor": "white",
           "lakecolor": "white",
           "landcolor": "#E5ECF6",
           "showlakes": true,
           "showland": true,
           "subunitcolor": "white"
          },
          "hoverlabel": {
           "align": "left"
          },
          "hovermode": "closest",
          "mapbox": {
           "style": "light"
          },
          "paper_bgcolor": "white",
          "plot_bgcolor": "#E5ECF6",
          "polar": {
           "angularaxis": {
            "gridcolor": "white",
            "linecolor": "white",
            "ticks": ""
           },
           "bgcolor": "#E5ECF6",
           "radialaxis": {
            "gridcolor": "white",
            "linecolor": "white",
            "ticks": ""
           }
          },
          "scene": {
           "xaxis": {
            "backgroundcolor": "#E5ECF6",
            "gridcolor": "white",
            "gridwidth": 2,
            "linecolor": "white",
            "showbackground": true,
            "ticks": "",
            "zerolinecolor": "white"
           },
           "yaxis": {
            "backgroundcolor": "#E5ECF6",
            "gridcolor": "white",
            "gridwidth": 2,
            "linecolor": "white",
            "showbackground": true,
            "ticks": "",
            "zerolinecolor": "white"
           },
           "zaxis": {
            "backgroundcolor": "#E5ECF6",
            "gridcolor": "white",
            "gridwidth": 2,
            "linecolor": "white",
            "showbackground": true,
            "ticks": "",
            "zerolinecolor": "white"
           }
          },
          "shapedefaults": {
           "line": {
            "color": "#2a3f5f"
           }
          },
          "ternary": {
           "aaxis": {
            "gridcolor": "white",
            "linecolor": "white",
            "ticks": ""
           },
           "baxis": {
            "gridcolor": "white",
            "linecolor": "white",
            "ticks": ""
           },
           "bgcolor": "#E5ECF6",
           "caxis": {
            "gridcolor": "white",
            "linecolor": "white",
            "ticks": ""
           }
          },
          "title": {
           "x": 0.05
          },
          "xaxis": {
           "automargin": true,
           "gridcolor": "white",
           "linecolor": "white",
           "ticks": "",
           "title": {
            "standoff": 15
           },
           "zerolinecolor": "white",
           "zerolinewidth": 2
          },
          "yaxis": {
           "automargin": true,
           "gridcolor": "white",
           "linecolor": "white",
           "ticks": "",
           "title": {
            "standoff": 15
           },
           "zerolinecolor": "white",
           "zerolinewidth": 2
          }
         }
        },
        "xaxis": {
         "anchor": "y",
         "domain": [
          0,
          1
         ],
         "title": {
          "text": "posicao"
         }
        },
        "yaxis": {
         "anchor": "x",
         "domain": [
          0,
          1
         ],
         "title": {
          "text": "velocidade"
         }
        }
       }
      }
     },
     "metadata": {},
     "output_type": "display_data"
    }
   ],
   "source": [
    "df = pd.read_csv('/home/jp/Documents/ssl-unification/bin/csv/4.csv', header= None)\n",
    "df = getDftoIntercept(df)\n",
    "#df.drop_duplicates(subset=['posicao'], keep='first', inplace=True)\n",
    "fig = px.line(df,x='posicao',y='velocidade')\n",
    "fig.show()"
   ]
  },
  {
   "cell_type": "code",
   "execution_count": 5,
   "metadata": {},
   "outputs": [
    {
     "data": {
      "image/png": "[encoded data removed]",
      "text/plain": [
       "<Figure size 432x288 with 1 Axes>"
      ]
     },
     "metadata": {
      "needs_background": "light"
     },
     "output_type": "display_data"
    }
   ],
   "source": [
    "dataframes = []\n",
    "firsts = []\n",
    "ax = plt.subplot()\n",
    "for i in range(3,9):\n",
    "    dataframes.append(pd.read_csv('/home/jp/Documents/ssl-unification/bin/csv/'+str(i)+'.csv', header= None))\n",
    "    firsts.append(dataframes[len(dataframes)-1].iloc[0])\n",
    "    dataframes[len(dataframes)-1].drop(0, axis=0, inplace= True)\n",
    "    dataframes[len(dataframes)-1] = getDf(dataframes[len(dataframes)-1], firsts[len(firsts)-1])\n",
    "    ax = dataframes[len(dataframes)-1].plot(ax = ax, x = 'posicao',y = 'velocidade', kind = 'line', label = str(i))\n"
   ]
  },
  {
   "cell_type": "code",
   "execution_count": 111,
   "metadata": {},
   "outputs": [],
   "source": [
    "def getDftoIntercept(dfregressao):\n",
    "    dfregressao1 = pd.DataFrame(columns=['posicao', 'velocidade'])\n",
    "    start = dfregressao.iloc[0]\n",
    "    dfregressao.drop(0, axis=0, inplace= True)\n",
    "    dfregressao1 = getDf(dfregressao, start)\n",
    "    max = dfregressao1.max(axis=0)[1]\n",
    "    index = dfregressao1[dfregressao1['velocidade'] == max].index[0]\n",
    "    dfregressao1 = dfregressao1.iloc[index:]\n",
    "    return dfregressao1.drop_duplicates(subset=['posicao'], keep='first', inplace=False)\n",
    "    "
   ]
  },
  {
   "cell_type": "code",
   "execution_count": 7,
   "metadata": {},
   "outputs": [],
   "source": [
    "def getA(x,y,x2,y2):\n",
    "    return (y2-y)/(x2-x)\n",
    "def getB(a,x,y):\n",
    "    return y - a*x\n",
    "def reta(a,b,x):\n",
    "    return a*x + b"
   ]
  },
  {
   "cell_type": "code",
   "execution_count": 8,
   "metadata": {},
   "outputs": [],
   "source": [
    "def getRegressao(a, b, r):\n",
    "    dfreta = pd.DataFrame(columns=['posicao', 'velocidade'])\n",
    "    for i in range(r):\n",
    "        y = reta(a,b,i)\n",
    "        dfreta.loc[i] = [i, y]\n",
    "    return dfreta\n"
   ]
  },
  {
   "cell_type": "code",
   "execution_count": 9,
   "metadata": {},
   "outputs": [],
   "source": [
    "def getInterception(a,b,a1,b1):\n",
    "    x = (b-b1)/(a1-a)\n",
    "    y = reta(a,b,x)\n",
    "    return(x,y)"
   ]
  },
  {
   "cell_type": "code",
   "execution_count": 271,
   "metadata": {},
   "outputs": [],
   "source": [
    "dfprecision = []\n",
    "forcas = []\n",
    "for i in range(4,9):\n",
    "    dataframe = pd.read_csv('/home/jp/Documents/ssl-unification/bin/csv/'+str(i)+'.csv', header= None)\n",
    "    dfprecision.append(getDftoIntercept(dataframe))\n",
    "    forcas.append(i)"
   ]
  },
  {
   "cell_type": "code",
   "execution_count": 255,
   "metadata": {},
   "outputs": [
    {
     "data": {
      "image/png": "[encoded data removed]",
      "text/plain": [
       "<Figure size 432x288 with 1 Axes>"
      ]
     },
     "metadata": {
      "needs_background": "light"
     },
     "output_type": "display_data"
    }
   ],
   "source": [
    "ax = plt.subplot()\n",
    "for i in range(len(dfprecision)):\n",
    "    ax = dfprecision[i].plot(ax = ax, x = 'posicao',y = 'velocidade', kind = 'line', label = str(forcas[i]))\n",
    "    "
   ]
  },
  {
   "cell_type": "code",
   "execution_count": 212,
   "metadata": {},
   "outputs": [
    {
     "data": {
      "image/png": "[encoded data removed]",
      "text/plain": [
       "<Figure size 432x288 with 1 Axes>"
      ]
     },
     "metadata": {},
     "output_type": "display_data"
    },
    {
     "data": {
      "image/png": "[encoded data removed]",
      "text/plain": [
       "<Figure size 432x288 with 1 Axes>"
      ]
     },
     "metadata": {},
     "output_type": "display_data"
    },
    {
     "data": {
      "image/png": "[encoded data removed]",
      "text/plain": [
       "<Figure size 432x288 with 1 Axes>"
      ]
     },
     "metadata": {},
     "output_type": "display_data"
    },
    {
     "data": {
      "image/png": "[encoded data removed]",
      "text/plain": [
       "<Figure size 432x288 with 1 Axes>"
      ]
     },
     "metadata": {},
     "output_type": "display_data"
    },
    {
     "data": {
      "image/png": "[encoded data removed]",
      "text/plain": [
       "<Figure size 432x288 with 1 Axes>"
      ]
     },
     "metadata": {},
     "output_type": "display_data"
    }
   ],
   "source": [
    "angular1 = []\n",
    "angular2 = []\n",
    "linear1 = []\n",
    "linear2 = []\n",
    "for i in dfprecision:\n",
    "    points1 = i.iloc[int(len(i)/24): int(len(i)/15)]\n",
    "    points2 = i.iloc[int(2*len(i)/4): int(3*len(i)/4)]\n",
    "    reg = linear_model.LinearRegression()\n",
    "    reg2 = linear_model.LinearRegression()\n",
    "    reg.fit(points1[['posicao']], points1[['velocidade']])\n",
    "    reg2.fit(points2[['posicao']], points2[['velocidade']])\n",
    "    angular1.append(reg.coef_)\n",
    "    angular2.append(reg2.coef_)\n",
    "    linear1.append(reg.intercept_)\n",
    "    linear2.append(reg2.intercept_)\n",
    "    plt.scatter(i['posicao'], i['velocidade'], color='blue')\n",
    "    plt.plot(i['posicao'], reg.predict(i[['posicao']]), color='red', linewidth=3)\n",
    "    plt.plot(i['posicao'], reg2.predict(i[['posicao']]), color='red', linewidth=3)\n",
    "    plt.xticks(())\n",
    "    plt.yticks(())\n",
    "    plt.show()"
   ]
  },
  {
   "cell_type": "code",
   "execution_count": 203,
   "metadata": {},
   "outputs": [],
   "source": [
    "interceptions = pd.DataFrame(columns=['x', 'y'])\n",
    "retas1 = []\n",
    "retas2 = []\n",
    "\n",
    "for i in range(len(angular1)):\n",
    "    point = (getInterception(float(angular1[i]), float(linear1[i]), float(angular2[i]), float(linear2[i])))\n",
    "    interceptions.loc[i] = [point[0], point[1]]\n",
    "    retas1.append(getRegressao(float(angular1[i]), float(linear1[i]), 8000))\n",
    "    retas2.append(getRegressao(float(angular2[i]), float(linear2[i]), 8000))\n",
    "\n",
    "\n",
    "    "
   ]
  },
  {
   "cell_type": "code",
   "execution_count": 208,
   "metadata": {},
   "outputs": [
    {
     "data": {
      "image/png": "[encoded data removed]",
      "text/plain": [
       "<Figure size 432x288 with 1 Axes>"
      ]
     },
     "metadata": {
      "needs_background": "light"
     },
     "output_type": "display_data"
    }
   ],
   "source": [
    "ax = plt.subplot()\n",
    "for i in retas1:\n",
    "    ax = i.plot(ax = ax, x = 'posicao',y = 'velocidade', kind = 'line')"
   ]
  },
  {
   "cell_type": "code",
   "execution_count": 209,
   "metadata": {},
   "outputs": [
    {
     "data": {
      "image/png": "[encoded data removed]",
      "text/plain": [
       "<Figure size 432x288 with 1 Axes>"
      ]
     },
     "metadata": {
      "needs_background": "light"
     },
     "output_type": "display_data"
    }
   ],
   "source": [
    "ax = plt.subplot()\n",
    "for i in retas2:\n",
    "    ax = i.plot(ax = ax, x = 'posicao',y = 'velocidade', kind = 'line')"
   ]
  },
  {
   "cell_type": "code",
   "execution_count": 205,
   "metadata": {},
   "outputs": [
    {
     "data": {
      "text/plain": [
       "<AxesSubplot:xlabel='x', ylabel='y'>"
      ]
     },
     "execution_count": 205,
     "metadata": {},
     "output_type": "execute_result"
    },
    {
     "data": {
      "image/png": "[encoded data removed]",
      "text/plain": [
       "<Figure size 432x288 with 1 Axes>"
      ]
     },
     "metadata": {
      "needs_background": "light"
     },
     "output_type": "display_data"
    }
   ],
   "source": [
    "interceptions.plot(x = 'x',y = 'y', kind = 'scatter', label = 'Interseção')"
   ]
  },
  {
   "cell_type": "code",
   "execution_count": 315,
   "metadata": {},
   "outputs": [
    {
     "data": {
      "text/html": [
       "<style>#sk-container-id-12 {color: black;background-color: white;}#sk-container-id-12 pre{padding: 0;}#sk-container-id-12 div.sk-toggleable {background-color: white;}#sk-container-id-12 label.sk-toggleable__label {cursor: pointer;display: block;width: 100%;margin-bottom: 0;padding: 0.3em;box-sizing: border-box;text-align: center;}#sk-container-id-12 label.sk-toggleable__label-arrow:before {content: \"▸\";float: left;margin-right: 0.25em;color: #696969;}#sk-container-id-12 label.sk-toggleable__label-arrow:hover:before {color: black;}#sk-container-id-12 div.sk-estimator:hover label.sk-toggleable__label-arrow:before {color: black;}#sk-container-id-12 div.sk-toggleable__content {max-height: 0;max-width: 0;overflow: hidden;text-align: left;background-color: #f0f8ff;}#sk-container-id-12 div.sk-toggleable__content pre {margin: 0.2em;color: black;border-radius: 0.25em;background-color: #f0f8ff;}#sk-container-id-12 input.sk-toggleable__control:checked~div.sk-toggleable__content {max-height: 200px;max-width: 100%;overflow: auto;}#sk-container-id-12 input.sk-toggleable__control:checked~label.sk-toggleable__label-arrow:before {content: \"▾\";}#sk-container-id-12 div.sk-estimator input.sk-toggleable__control:checked~label.sk-toggleable__label {background-color: #d4ebff;}#sk-container-id-12 div.sk-label input.sk-toggleable__control:checked~label.sk-toggleable__label {background-color: #d4ebff;}#sk-container-id-12 input.sk-hidden--visually {border: 0;clip: rect(1px 1px 1px 1px);clip: rect(1px, 1px, 1px, 1px);height: 1px;margin: -1px;overflow: hidden;padding: 0;position: absolute;width: 1px;}#sk-container-id-12 div.sk-estimator {font-family: monospace;background-color: #f0f8ff;border: 1px dotted black;border-radius: 0.25em;box-sizing: border-box;margin-bottom: 0.5em;}#sk-container-id-12 div.sk-estimator:hover {background-color: #d4ebff;}#sk-container-id-12 div.sk-parallel-item::after {content: \"\";width: 100%;border-bottom: 1px solid gray;flex-grow: 1;}#sk-container-id-12 div.sk-label:hover label.sk-toggleable__label {background-color: #d4ebff;}#sk-container-id-12 div.sk-serial::before {content: \"\";position: absolute;border-left: 1px solid gray;box-sizing: border-box;top: 0;bottom: 0;left: 50%;z-index: 0;}#sk-container-id-12 div.sk-serial {display: flex;flex-direction: column;align-items: center;background-color: white;padding-right: 0.2em;padding-left: 0.2em;position: relative;}#sk-container-id-12 div.sk-item {position: relative;z-index: 1;}#sk-container-id-12 div.sk-parallel {display: flex;align-items: stretch;justify-content: center;background-color: white;position: relative;}#sk-container-id-12 div.sk-item::before, #sk-container-id-12 div.sk-parallel-item::before {content: \"\";position: absolute;border-left: 1px solid gray;box-sizing: border-box;top: 0;bottom: 0;left: 50%;z-index: -1;}#sk-container-id-12 div.sk-parallel-item {display: flex;flex-direction: column;z-index: 1;position: relative;background-color: white;}#sk-container-id-12 div.sk-parallel-item:first-child::after {align-self: flex-end;width: 50%;}#sk-container-id-12 div.sk-parallel-item:last-child::after {align-self: flex-start;width: 50%;}#sk-container-id-12 div.sk-parallel-item:only-child::after {width: 0;}#sk-container-id-12 div.sk-dashed-wrapped {border: 1px dashed gray;margin: 0 0.4em 0.5em 0.4em;box-sizing: border-box;padding-bottom: 0.4em;background-color: white;}#sk-container-id-12 div.sk-label label {font-family: monospace;font-weight: bold;display: inline-block;line-height: 1.2em;}#sk-container-id-12 div.sk-label-container {text-align: center;}#sk-container-id-12 div.sk-container {/* jupyter's `normalize.less` sets `[hidden] { display: none; }` but bootstrap.min.css set `[hidden] { display: none !important; }` so we also need the `!important` here to be able to override the default hidden behavior on the sphinx rendered scikit-learn.org. See: https://github.com/scikit-learn/scikit-learn/issues/21755 */display: inline-block !important;position: relative;}#sk-container-id-12 div.sk-text-repr-fallback {display: none;}</style><div id=\"sk-container-id-12\" class=\"sk-top-container\"><div class=\"sk-text-repr-fallback\"><pre>LinearRegression()</pre><b>In a Jupyter environment, please rerun this cell to show the HTML representation or trust the notebook. <br />On GitHub, the HTML representation is unable to render, please try loading this page with nbviewer.org.</b></div><div class=\"sk-container\" hidden><div class=\"sk-item\"><div class=\"sk-estimator sk-toggleable\"><input class=\"sk-toggleable__control sk-hidden--visually\" id=\"sk-estimator-id-12\" type=\"checkbox\" checked><label for=\"sk-estimator-id-12\" class=\"sk-toggleable__label sk-toggleable__label-arrow\">LinearRegression</label><div class=\"sk-toggleable__content\"><pre>LinearRegression()</pre></div></div></div></div></div>"
      ],
      "text/plain": [
       "LinearRegression()"
      ]
     },
     "execution_count": 315,
     "metadata": {},
     "output_type": "execute_result"
    }
   ],
   "source": [
    "reta1a = pd.DataFrame(columns=['forca', 'angular'])\n",
    "reta2a = pd.DataFrame(columns=['forca', 'angular'])\n",
    "for i in range(5):\n",
    "    reta1a.loc[i] = [forcas[i], angular1[i]]\n",
    "for i in range(5):\n",
    "    reta2a.loc[i] = [forcas[i], angular2[i]]\n",
    "rega1 = linear_model.LinearRegression()\n",
    "rega2 = linear_model.LinearRegression()\n",
    "rega1.fit(reta1a[['forca']], reta1a[['angular']])\n",
    "rega2.fit(reta2a[['forca']], reta2a[['angular']])"
   ]
  },
  {
   "cell_type": "code",
   "execution_count": 326,
   "metadata": {},
   "outputs": [
    {
     "data": {
      "text/html": [
       "<style>#sk-container-id-14 {color: black;background-color: white;}#sk-container-id-14 pre{padding: 0;}#sk-container-id-14 div.sk-toggleable {background-color: white;}#sk-container-id-14 label.sk-toggleable__label {cursor: pointer;display: block;width: 100%;margin-bottom: 0;padding: 0.3em;box-sizing: border-box;text-align: center;}#sk-container-id-14 label.sk-toggleable__label-arrow:before {content: \"▸\";float: left;margin-right: 0.25em;color: #696969;}#sk-container-id-14 label.sk-toggleable__label-arrow:hover:before {color: black;}#sk-container-id-14 div.sk-estimator:hover label.sk-toggleable__label-arrow:before {color: black;}#sk-container-id-14 div.sk-toggleable__content {max-height: 0;max-width: 0;overflow: hidden;text-align: left;background-color: #f0f8ff;}#sk-container-id-14 div.sk-toggleable__content pre {margin: 0.2em;color: black;border-radius: 0.25em;background-color: #f0f8ff;}#sk-container-id-14 input.sk-toggleable__control:checked~div.sk-toggleable__content {max-height: 200px;max-width: 100%;overflow: auto;}#sk-container-id-14 input.sk-toggleable__control:checked~label.sk-toggleable__label-arrow:before {content: \"▾\";}#sk-container-id-14 div.sk-estimator input.sk-toggleable__control:checked~label.sk-toggleable__label {background-color: #d4ebff;}#sk-container-id-14 div.sk-label input.sk-toggleable__control:checked~label.sk-toggleable__label {background-color: #d4ebff;}#sk-container-id-14 input.sk-hidden--visually {border: 0;clip: rect(1px 1px 1px 1px);clip: rect(1px, 1px, 1px, 1px);height: 1px;margin: -1px;overflow: hidden;padding: 0;position: absolute;width: 1px;}#sk-container-id-14 div.sk-estimator {font-family: monospace;background-color: #f0f8ff;border: 1px dotted black;border-radius: 0.25em;box-sizing: border-box;margin-bottom: 0.5em;}#sk-container-id-14 div.sk-estimator:hover {background-color: #d4ebff;}#sk-container-id-14 div.sk-parallel-item::after {content: \"\";width: 100%;border-bottom: 1px solid gray;flex-grow: 1;}#sk-container-id-14 div.sk-label:hover label.sk-toggleable__label {background-color: #d4ebff;}#sk-container-id-14 div.sk-serial::before {content: \"\";position: absolute;border-left: 1px solid gray;box-sizing: border-box;top: 0;bottom: 0;left: 50%;z-index: 0;}#sk-container-id-14 div.sk-serial {display: flex;flex-direction: column;align-items: center;background-color: white;padding-right: 0.2em;padding-left: 0.2em;position: relative;}#sk-container-id-14 div.sk-item {position: relative;z-index: 1;}#sk-container-id-14 div.sk-parallel {display: flex;align-items: stretch;justify-content: center;background-color: white;position: relative;}#sk-container-id-14 div.sk-item::before, #sk-container-id-14 div.sk-parallel-item::before {content: \"\";position: absolute;border-left: 1px solid gray;box-sizing: border-box;top: 0;bottom: 0;left: 50%;z-index: -1;}#sk-container-id-14 div.sk-parallel-item {display: flex;flex-direction: column;z-index: 1;position: relative;background-color: white;}#sk-container-id-14 div.sk-parallel-item:first-child::after {align-self: flex-end;width: 50%;}#sk-container-id-14 div.sk-parallel-item:last-child::after {align-self: flex-start;width: 50%;}#sk-container-id-14 div.sk-parallel-item:only-child::after {width: 0;}#sk-container-id-14 div.sk-dashed-wrapped {border: 1px dashed gray;margin: 0 0.4em 0.5em 0.4em;box-sizing: border-box;padding-bottom: 0.4em;background-color: white;}#sk-container-id-14 div.sk-label label {font-family: monospace;font-weight: bold;display: inline-block;line-height: 1.2em;}#sk-container-id-14 div.sk-label-container {text-align: center;}#sk-container-id-14 div.sk-container {/* jupyter's `normalize.less` sets `[hidden] { display: none; }` but bootstrap.min.css set `[hidden] { display: none !important; }` so we also need the `!important` here to be able to override the default hidden behavior on the sphinx rendered scikit-learn.org. See: https://github.com/scikit-learn/scikit-learn/issues/21755 */display: inline-block !important;position: relative;}#sk-container-id-14 div.sk-text-repr-fallback {display: none;}</style><div id=\"sk-container-id-14\" class=\"sk-top-container\"><div class=\"sk-text-repr-fallback\"><pre>LinearRegression()</pre><b>In a Jupyter environment, please rerun this cell to show the HTML representation or trust the notebook. <br />On GitHub, the HTML representation is unable to render, please try loading this page with nbviewer.org.</b></div><div class=\"sk-container\" hidden><div class=\"sk-item\"><div class=\"sk-estimator sk-toggleable\"><input class=\"sk-toggleable__control sk-hidden--visually\" id=\"sk-estimator-id-14\" type=\"checkbox\" checked><label for=\"sk-estimator-id-14\" class=\"sk-toggleable__label sk-toggleable__label-arrow\">LinearRegression</label><div class=\"sk-toggleable__content\"><pre>LinearRegression()</pre></div></div></div></div></div>"
      ],
      "text/plain": [
       "LinearRegression()"
      ]
     },
     "execution_count": 326,
     "metadata": {},
     "output_type": "execute_result"
    }
   ],
   "source": [
    "reta1b = pd.DataFrame(columns=['forca', 'linear'])\n",
    "reta2b = pd.DataFrame(columns=['forca', 'linear'])\n",
    "for i in range(5):\n",
    "    reta1b.loc[i] = [forcas[i], linear1[i]]\n",
    "for i in range(5):\n",
    "    reta2b.loc[i] = [forcas[i], linear2[i]]\n",
    "regb1 = linear_model.LinearRegression()\n",
    "regb2 = linear_model.LinearRegression()\n",
    "regb1.fit(reta1b[['forca']], reta1b[['linear']])\n",
    "regb2.fit(reta2b[['forca']], reta2b[['linear']])\n"
   ]
  },
  {
   "cell_type": "code",
   "execution_count": 327,
   "metadata": {},
   "outputs": [],
   "source": [
    "a = regb1.predict(reta1b[['forca']])\n",
    "b = regb2.predict(reta2b[['forca']])"
   ]
  },
  {
   "cell_type": "code",
   "execution_count": 328,
   "metadata": {},
   "outputs": [],
   "source": [
    "def predictb1(x):\n",
    "    return float(regb1.coef_*x + regb1.intercept_)\n",
    "def predictb2(x):\n",
    "    return float(regb2.coef_*x + regb2.intercept_)\n",
    "def predicta1(x):\n",
    "    return float(rega1.coef_*x + rega1.intercept_)\n",
    "def predicta2(x):\n",
    "    return float(rega2.coef_*x + rega2.intercept_)"
   ]
  },
  {
   "cell_type": "code",
   "execution_count": 329,
   "metadata": {},
   "outputs": [],
   "source": [
    "def reta1(x, f):\n",
    "    return predicta1(f)*x +predictb1(f)\n",
    "def reta2(x,f):\n",
    "    return predicta2(f)*x +predictb2(f)"
   ]
  },
  {
   "cell_type": "code",
   "execution_count": 330,
   "metadata": {},
   "outputs": [],
   "source": [
    "def speed(x, f):\n",
    "    x_intersection = getInterception(predicta1(f), predictb1(f), predicta2(f), predictb2(f))[0]\n",
    "    if(x < x_intersection):\n",
    "        return reta1(x, f)\n",
    "    if(x > x_intersection):\n",
    "        return reta2(x, f)"
   ]
  },
  {
   "cell_type": "code",
   "execution_count": 331,
   "metadata": {},
   "outputs": [],
   "source": [
    "predforcas = [4,5,6,7,8]\n",
    "estimated = []\n",
    "for i in predforcas:\n",
    "    testFunction = pd.DataFrame(columns=['posicao', 'velocidade predita'])\n",
    "    for j in range(len(dfprecision[0])):\n",
    "        testFunction.loc[j] = [dfprecision[0]['posicao'].iloc[j], float(speed(dfprecision[0]['posicao'].iloc[j], i))]\n",
    "    estimated.append(testFunction)\n"
   ]
  },
  {
   "cell_type": "code",
   "execution_count": 332,
   "metadata": {},
   "outputs": [
    {
     "data": {
      "image/png": "[encoded data removed]",
      "text/plain": [
       "<Figure size 432x288 with 1 Axes>"
      ]
     },
     "metadata": {
      "needs_background": "light"
     },
     "output_type": "display_data"
    }
   ],
   "source": [
    "ax = plt.subplot()\n",
    "for i in estimated:\n",
    "    plt.plot(i['posicao'], i['velocidade predita'], color='red', linewidth=3)\n",
    "for i in dfprecision:\n",
    "    plt.plot(i['posicao'],i['velocidade'], color = 'blue', linewidth=3)\n",
    "plt.show()"
   ]
  }
 ],
 "metadata": {
  "interpreter": {
   "hash": "916dbcbb3f70747c44a77c7bcd40155683ae19c65e1c03b4aa3499c5328201f1"
  },
  "kernelspec": {
   "display_name": "Python 3.10.4 64-bit",
   "language": "python",
   "name": "python3"
  },
  "language_info": {
   "codemirror_mode": {
    "name": "ipython",
    "version": 3
   },
   "file_extension": ".py",
   "mimetype": "text/x-python",
   "name": "python",
   "nbconvert_exporter": "python",
   "pygments_lexer": "ipython3",
   "version": "3.10.4"
  },
  "orig_nbformat": 4
 },
 "nbformat": 4,
 "nbformat_minor": 2
}
