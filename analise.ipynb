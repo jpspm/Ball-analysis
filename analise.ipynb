{
 "cells": [
  {
   "cell_type": "code",
   "execution_count": 12,
   "metadata": {},
   "outputs": [
    {
     "name": "stdout",
     "output_type": "stream",
     "text": [
      "Defaulting to user installation because normal site-packages is not writeable\n",
      "Requirement already satisfied: pandas in /home/jp/.local/lib/python3.10/site-packages (1.4.2)\n",
      "Requirement already satisfied: pytz>=2020.1 in /usr/lib/python3/dist-packages (from pandas) (2022.1)\n",
      "Requirement already satisfied: python-dateutil>=2.8.1 in /home/jp/.local/lib/python3.10/site-packages (from pandas) (2.8.2)\n",
      "Requirement already satisfied: numpy>=1.21.0 in /home/jp/.local/lib/python3.10/site-packages (from pandas) (1.22.3)\n",
      "Requirement already satisfied: six>=1.5 in /usr/lib/python3/dist-packages (from python-dateutil>=2.8.1->pandas) (1.16.0)\n",
      "Defaulting to user installation because normal site-packages is not writeable\n",
      "Requirement already satisfied: matplotlib in /home/jp/.local/lib/python3.10/site-packages (3.5.2)\n",
      "Requirement already satisfied: cycler>=0.10 in /home/jp/.local/lib/python3.10/site-packages (from matplotlib) (0.11.0)\n",
      "Requirement already satisfied: packaging>=20.0 in /home/jp/.local/lib/python3.10/site-packages (from matplotlib) (21.3)\n",
      "Requirement already satisfied: numpy>=1.17 in /home/jp/.local/lib/python3.10/site-packages (from matplotlib) (1.22.3)\n",
      "Requirement already satisfied: pyparsing>=2.2.1 in /usr/lib/python3/dist-packages (from matplotlib) (2.4.7)\n",
      "Requirement already satisfied: python-dateutil>=2.7 in /home/jp/.local/lib/python3.10/site-packages (from matplotlib) (2.8.2)\n",
      "Requirement already satisfied: fonttools>=4.22.0 in /home/jp/.local/lib/python3.10/site-packages (from matplotlib) (4.33.3)\n",
      "Requirement already satisfied: pillow>=6.2.0 in /usr/lib/python3/dist-packages (from matplotlib) (9.0.1)\n",
      "Requirement already satisfied: kiwisolver>=1.0.1 in /home/jp/.local/lib/python3.10/site-packages (from matplotlib) (1.4.2)\n",
      "Requirement already satisfied: six>=1.5 in /usr/lib/python3/dist-packages (from python-dateutil>=2.7->matplotlib) (1.16.0)\n",
      "Defaulting to user installation because normal site-packages is not writeable\n",
      "Requirement already satisfied: numpy in /home/jp/.local/lib/python3.10/site-packages (1.22.3)\n",
      "Defaulting to user installation because normal site-packages is not writeable\n",
      "Requirement already satisfied: plotly in /home/jp/.local/lib/python3.10/site-packages (5.8.0)\n",
      "Requirement already satisfied: express in /home/jp/.local/lib/python3.10/site-packages (0.1.5)\n",
      "Requirement already satisfied: tenacity>=6.2.0 in /home/jp/.local/lib/python3.10/site-packages (from plotly) (8.0.1)\n",
      "Requirement already satisfied: dateparser<2.0.0,>=1.1.0 in /home/jp/.local/lib/python3.10/site-packages (from express) (1.1.1)\n",
      "Requirement already satisfied: Jinja2<4.0.0,>=3.0.3 in /home/jp/.local/lib/python3.10/site-packages (from express) (3.1.2)\n",
      "Requirement already satisfied: pytz in /usr/lib/python3/dist-packages (from dateparser<2.0.0,>=1.1.0->express) (2022.1)\n",
      "Requirement already satisfied: tzlocal in /home/jp/.local/lib/python3.10/site-packages (from dateparser<2.0.0,>=1.1.0->express) (4.2)\n",
      "Requirement already satisfied: python-dateutil in /home/jp/.local/lib/python3.10/site-packages (from dateparser<2.0.0,>=1.1.0->express) (2.8.2)\n",
      "Requirement already satisfied: regex!=2019.02.19,!=2021.8.27,<2022.3.15 in /home/jp/.local/lib/python3.10/site-packages (from dateparser<2.0.0,>=1.1.0->express) (2022.3.2)\n",
      "Requirement already satisfied: MarkupSafe>=2.0 in /home/jp/.local/lib/python3.10/site-packages (from Jinja2<4.0.0,>=3.0.3->express) (2.1.1)\n",
      "Requirement already satisfied: six>=1.5 in /usr/lib/python3/dist-packages (from python-dateutil->dateparser<2.0.0,>=1.1.0->express) (1.16.0)\n",
      "Requirement already satisfied: pytz-deprecation-shim in /home/jp/.local/lib/python3.10/site-packages (from tzlocal->dateparser<2.0.0,>=1.1.0->express) (0.1.0.post0)\n",
      "Requirement already satisfied: tzdata in /home/jp/.local/lib/python3.10/site-packages (from pytz-deprecation-shim->tzlocal->dateparser<2.0.0,>=1.1.0->express) (2022.1)\n",
      "Defaulting to user installation because normal site-packages is not writeable\n",
      "Requirement already satisfied: scikit-learn in /home/jp/.local/lib/python3.10/site-packages (1.1.0)\n",
      "Requirement already satisfied: joblib>=1.0.0 in /home/jp/.local/lib/python3.10/site-packages (from scikit-learn) (1.1.0)\n",
      "Requirement already satisfied: numpy>=1.17.3 in /home/jp/.local/lib/python3.10/site-packages (from scikit-learn) (1.22.3)\n",
      "Requirement already satisfied: threadpoolctl>=2.0.0 in /home/jp/.local/lib/python3.10/site-packages (from scikit-learn) (3.1.0)\n",
      "Requirement already satisfied: scipy>=1.3.2 in /home/jp/.local/lib/python3.10/site-packages (from scikit-learn) (1.8.0)\n",
      "Defaulting to user installation because normal site-packages is not writeable\n",
      "Requirement already satisfied: sklearn in /home/jp/.local/lib/python3.10/site-packages (0.0)\n",
      "Requirement already satisfied: scikit-learn in /home/jp/.local/lib/python3.10/site-packages (from sklearn) (1.1.0)\n",
      "Requirement already satisfied: threadpoolctl>=2.0.0 in /home/jp/.local/lib/python3.10/site-packages (from scikit-learn->sklearn) (3.1.0)\n",
      "Requirement already satisfied: scipy>=1.3.2 in /home/jp/.local/lib/python3.10/site-packages (from scikit-learn->sklearn) (1.8.0)\n",
      "Requirement already satisfied: numpy>=1.17.3 in /home/jp/.local/lib/python3.10/site-packages (from scikit-learn->sklearn) (1.22.3)\n",
      "Requirement already satisfied: joblib>=1.0.0 in /home/jp/.local/lib/python3.10/site-packages (from scikit-learn->sklearn) (1.1.0)\n"
     ]
    }
   ],
   "source": [
    "!pip3 install pandas\n",
    "!pip3 install matplotlib\n",
    "!pip3 install numpy\n",
    "!pip install plotly express\n",
    "!pip install scikit-learn\n",
    "!pip install sklearn"
   ]
  },
  {
   "cell_type": "markdown",
   "metadata": {},
   "source": [
    "## Install dependences"
   ]
  },
  {
   "cell_type": "code",
   "execution_count": 1,
   "metadata": {},
   "outputs": [],
   "source": [
    "import pandas as pd\n",
    "import matplotlib.pyplot as plt\n",
    "import numpy as np\n",
    "import plotly.express as px\n",
    "from sklearn import linear_model\n",
    "from sklearn.metrics import mean_squared_error, r2_score"
   ]
  },
  {
   "cell_type": "markdown",
   "metadata": {},
   "source": [
    "### function to get module\n"
   ]
  },
  {
   "cell_type": "code",
   "execution_count": 2,
   "metadata": {},
   "outputs": [],
   "source": [
    "def getModule(x,y):\n",
    "    return np.sqrt(x**2 + y**2)"
   ]
  },
  {
   "cell_type": "markdown",
   "metadata": {},
   "source": [
    "### The format of input dataframe is PosX, PosY, vel. This function transform in a dataframe Module(PosX, PosY), vel"
   ]
  },
  {
   "cell_type": "code",
   "execution_count": 3,
   "metadata": {},
   "outputs": [],
   "source": [
    "def getDf(df, first):\n",
    "    dfplot = pd.DataFrame(columns=['posicao', 'velocidade'])\n",
    "    for i in range(len(df)):\n",
    "        x = df.iloc[i][0] - first[0]\n",
    "        y = df.iloc[i][1] - first[1]\n",
    "        v = df.iloc[i][2] \n",
    "        module = getModule(x,y)\n",
    "        dfplot.loc[i] = [module/1000, v]\n",
    "    return dfplot"
   ]
  },
  {
   "cell_type": "markdown",
   "metadata": {},
   "source": [
    "### interative plot for any CSV"
   ]
  },
  {
   "cell_type": "code",
   "execution_count": 5,
   "metadata": {},
   "outputs": [
    {
     "data": {
      "application/vnd.plotly.v1+json": {
       "config": {
        "plotlyServerURL": "https://plot.ly"
       },
       "data": [
        {
         "hovertemplate": "posicao=%{x}<br>velocidade=%{y}<extra></extra>",
         "legendgroup": "",
         "line": {
          "color": "#636efa",
          "dash": "solid"
         },
         "marker": {
          "symbol": "circle"
         },
         "mode": "lines",
         "name": "",
         "orientation": "v",
         "showlegend": false,
         "type": "scatter",
         "x": [
          0.33541823669711224,
          0.3896847041779418,
          0.442122923733389,
          0.4929626552635504,
          0.5419354568610638,
          0.5941746656362927,
          0.6423777601553857,
          0.6910910280898243,
          0.7403303867598847,
          0.7843834234733928,
          0.8313606002354457,
          0.8736371714934296,
          0.916810751923449,
          0.958964489301997,
          1.0000681051323654,
          1.0411839670125738,
          1.0832412797654272,
          1.1237313965594449,
          1.1590855627899264,
          1.196641485279881,
          1.2317569297730948,
          1.2680243834724316,
          1.3072021720233027,
          1.340754632403722,
          1.3789161786411965,
          1.4113081307059916,
          1.4501600782260695,
          1.487451681224718,
          1.5221416295698769,
          1.5599378530638457,
          1.631605163464997,
          1.6674283313116762,
          1.701317526462371,
          1.7360244228948047,
          1.7713555198218227,
          1.8054037535615797,
          1.840333803920593,
          1.876758705841068,
          1.911379593191431,
          1.9457640487035013,
          1.9804619387086542,
          2.0513918178426667,
          2.085281978718811,
          2.1210712865954884,
          2.156651169706042,
          2.187750675922977,
          2.221779919269377,
          2.2576189545655043,
          2.288879247399705,
          2.322220253623123,
          2.360880197262335,
          2.3944548471547846,
          2.42580981861432,
          2.4576273010162146,
          2.4928847270062127,
          2.5611624320339077,
          2.5974752862869437,
          2.627134347685371,
          2.661345294982228,
          2.6924604718951106,
          2.7265019033815547,
          2.7595399002804877,
          2.793385733772699,
          2.8243814415266293,
          2.857351965622723,
          2.891692297978442,
          2.922599077012282,
          2.9577114479368745,
          2.9873016426434478,
          3.0192351659358105,
          3.053329778226689,
          3.0885431497219265,
          3.1220695889109265,
          3.1455848741970134,
          3.183815206899056,
          3.214745900168057,
          3.2467665667199497,
          3.2781665801382114,
          3.3406066333816797,
          3.403767869829675,
          3.4370991615192077,
          3.466281408988174,
          3.496423552748157,
          3.529415148982936,
          3.5593671579023196,
          3.5893765789448513,
          3.624004978650808,
          3.655196001665279,
          3.6818756332244904,
          3.7130442246688418,
          3.7736904028941276,
          3.8049723163777474,
          3.8370758055805783,
          3.862517490397272,
          3.8973167334189354,
          3.925597900987904,
          3.955303876160344,
          3.9836102292925504,
          4.015974559082545,
          4.047288880620339,
          4.073814887684005,
          4.103413537708044,
          4.133684581245361,
          4.164654634758451,
          4.196243553646052,
          4.22228915410653,
          4.251937530673921,
          4.280916635851164,
          4.310445698997429,
          4.340048422964062,
          4.3683665972816925,
          4.395784161312546,
          4.483463750452839,
          4.511816882837139,
          4.539371571721799,
          4.566545001915107,
          4.5959984888169885,
          4.62678488449481,
          4.651825909361618,
          4.681692808881916,
          4.706648050001194,
          4.7361361001451,
          4.765421971566091,
          4.819736550230836,
          4.848718131419133,
          4.875382252267902,
          4.929294545367241,
          4.958518348270504,
          4.984686327800059,
          5.012267957985171,
          5.038217152778773,
          5.065947218146025,
          5.091930897668333,
          5.118888271869181,
          5.145978893539755,
          5.174064237476207,
          5.199015830347052,
          5.225395457366729,
          5.253586045530429,
          5.280089100807905,
          5.328612358726786,
          5.356686067977033,
          5.382040198958666,
          5.40855319097964,
          5.435315242307389,
          5.457408509321328,
          5.488220710020675,
          5.511355911060729,
          5.536054444385518,
          5.562669664625506,
          5.588672893845697,
          5.614522907167736,
          5.639096192370532,
          5.66077414166895,
          5.689364682591321,
          5.711582600094516,
          5.738977661356058,
          5.763354926058957,
          5.786680878346605,
          5.81509618662495,
          5.835784228982755,
          5.86079766578189,
          5.887496730423486,
          5.906779606552393,
          5.9613581899225645,
          6.007440669551372,
          6.031281177491034,
          6.052803226308208,
          6.080131970498653,
          6.101505266704916,
          6.127849060837192,
          6.149557796666622,
          6.172464400128043,
          6.1971876710322755,
          6.218762942614298,
          6.244455608866416,
          6.267875837035753,
          6.288054644142275,
          6.312119852480991,
          6.335460899422854,
          6.358182666203469,
          6.403577560956988,
          6.426709615705057,
          6.448559700519167,
          6.473770478263487,
          6.494552648980208,
          6.515793756376565,
          6.53938753228709,
          6.559331943054251,
          6.603983807072504,
          6.624083791371894,
          6.650218586674564,
          6.69303503443093,
          6.712085996904974,
          6.733205532374297,
          6.758055886976065,
          6.777558348217434,
          6.798834793481884,
          6.819601084088412,
          6.84192242633661,
          6.864168446833443,
          6.882640710379108,
          6.905562235460618,
          6.92525585436898,
          6.946397354110104,
          6.9660366916420875,
          7.0064036206204845,
          7.025922688511441,
          7.0680463100036235,
          7.086669922172744,
          7.109270309770183,
          7.126803149964495,
          7.1469722335330115,
          7.167894446294801,
          7.186216574384593,
          7.2085064568516435,
          7.228257497758076,
          7.248747245232919,
          7.288079367382043,
          7.307587169459961,
          7.32323691208907,
          7.341777762107202,
          7.365863162181052,
          7.38199469941044,
          7.398255709408525,
          7.419149712540909,
          7.437466397647779,
          7.456917798795683,
          7.476552535120972,
          7.494183408632847,
          7.512960245703144,
          7.52975454872998,
          7.549613720143027,
          7.566811251307108,
          7.58546351914264,
          7.604799031094763,
          7.619567654066197,
          7.6374449056623535,
          7.656461724410816,
          7.673872537293792,
          7.708244771002529,
          7.726766762948901,
          7.746664376491074,
          7.761350739901133,
          7.7809435723179385,
          7.796598853158205,
          7.813364121840977,
          7.832472492516258,
          7.847778390557664,
          7.86580392310054,
          7.880299216560235,
          7.914896939873561,
          7.930255002407416,
          7.949250390995357,
          7.963166400083314,
          7.981112718576768,
          7.996761021536897,
          8.01451789214472,
          8.028449154284022,
          8.044924898154603,
          8.057570551250286,
          8.076864367591414,
          8.095161652946274,
          8.108583701468453,
          8.11805423427904,
          8.120150315920256,
          8.118801203017588
         ],
         "xaxis": "x",
         "y": [
          3.53129,
          3.46679,
          3.40282,
          3.3431,
          3.28171,
          3.21767,
          3.15656,
          3.08816,
          3.03557,
          2.97347,
          2.91875,
          2.87079,
          2.80093,
          2.74807,
          2.72911,
          2.72747,
          2.7229,
          2.71902,
          2.71253,
          2.70511,
          2.69556,
          2.68626,
          2.6781,
          2.66751,
          2.65838,
          2.64712,
          2.63363,
          2.62502,
          2.61533,
          2.60532,
          2.59225,
          2.58264,
          2.56436,
          2.55458,
          2.54691,
          2.53629,
          2.50795,
          2.50035,
          2.4895,
          2.4761,
          2.46757,
          2.44594,
          2.43536,
          2.42068,
          2.41326,
          2.40204,
          2.39159,
          2.36117,
          2.35152,
          2.34195,
          2.3074,
          2.30035,
          2.28019,
          2.27072,
          2.25727,
          2.24459,
          2.23787,
          2.23171,
          2.22509,
          2.21979,
          2.21444,
          2.20929,
          2.20348,
          2.19866,
          2.19323,
          2.18801,
          2.18188,
          2.17578,
          2.171,
          2.16572,
          2.16058,
          2.15508,
          2.15113,
          2.14611,
          2.14082,
          2.134,
          2.12868,
          2.1181,
          2.11148,
          2.10004,
          2.09383,
          2.08848,
          2.08321,
          2.07785,
          2.0722,
          2.0656,
          2.06022,
          2.05502,
          2.04881,
          2.04265,
          2.03111,
          2.02633,
          2.02157,
          2.01644,
          2.01097,
          2.00572,
          2.00038,
          1.9953,
          1.99012,
          1.98458,
          1.97964,
          1.97409,
          1.9682,
          1.96367,
          1.95836,
          1.95277,
          1.94742,
          1.94222,
          1.93676,
          1.93152,
          1.92651,
          1.92119,
          1.90538,
          1.89995,
          1.89476,
          1.88959,
          1.88437,
          1.87918,
          1.87391,
          1.86854,
          1.86292,
          1.8575,
          1.85265,
          1.84223,
          1.8367,
          1.8309,
          1.82011,
          1.81489,
          1.80972,
          1.80482,
          1.7996,
          1.79453,
          1.78929,
          1.78421,
          1.77892,
          1.77411,
          1.76878,
          1.76361,
          1.75814,
          1.75275,
          1.74246,
          1.73717,
          1.73192,
          1.7262,
          1.72122,
          1.7162,
          1.71089,
          1.70571,
          1.70012,
          1.6949,
          1.68952,
          1.68475,
          1.67918,
          1.67374,
          1.66846,
          1.66327,
          1.65799,
          1.65289,
          1.64786,
          1.64246,
          1.63734,
          1.63174,
          1.62623,
          1.62117,
          1.61088,
          1.60035,
          1.59517,
          1.59497,
          1.58416,
          1.57928,
          1.57393,
          1.56853,
          1.56335,
          1.55778,
          1.5527,
          1.5475,
          1.54205,
          1.53689,
          1.53167,
          1.52649,
          1.52118,
          1.51049,
          1.50546,
          1.50011,
          1.49505,
          1.48991,
          1.48463,
          1.4792,
          1.47411,
          1.46343,
          1.45824,
          1.45274,
          1.44235,
          1.43725,
          1.43196,
          1.42681,
          1.42119,
          1.41618,
          1.41078,
          1.40563,
          1.40067,
          1.39519,
          1.39032,
          1.38527,
          1.37959,
          1.37429,
          1.36375,
          1.35825,
          1.3479,
          1.3425,
          1.3375,
          1.33224,
          1.32706,
          1.32185,
          1.31641,
          1.31093,
          1.30586,
          1.30061,
          1.29015,
          1.28476,
          1.27954,
          1.27449,
          1.269,
          1.26384,
          1.2587,
          1.25346,
          1.24821,
          1.24326,
          1.23788,
          1.23263,
          1.2273,
          1.2273,
          1.2169,
          1.21145,
          1.20642,
          1.2012,
          1.19588,
          1.19047,
          1.18517,
          1.1802,
          1.16973,
          1.16436,
          1.159,
          1.154,
          1.14927,
          1.14396,
          1.13859,
          1.13338,
          1.12795,
          1.12295,
          1.11752,
          1.10688,
          1.10165,
          1.12787,
          1.11646,
          1.1122,
          1.10757,
          1.10626,
          1.0989,
          1.0922,
          1.07713,
          1.07671,
          1.08376,
          1.07721,
          1.05385,
          0.993007,
          0.89821
         ],
         "yaxis": "y"
        }
       ],
       "layout": {
        "legend": {
         "tracegroupgap": 0
        },
        "margin": {
         "t": 60
        },
        "template": {
         "data": {
          "bar": [
           {
            "error_x": {
             "color": "#2a3f5f"
            },
            "error_y": {
             "color": "#2a3f5f"
            },
            "marker": {
             "line": {
              "color": "#E5ECF6",
              "width": 0.5
             },
             "pattern": {
              "fillmode": "overlay",
              "size": 10,
              "solidity": 0.2
             }
            },
            "type": "bar"
           }
          ],
          "barpolar": [
           {
            "marker": {
             "line": {
              "color": "#E5ECF6",
              "width": 0.5
             },
             "pattern": {
              "fillmode": "overlay",
              "size": 10,
              "solidity": 0.2
             }
            },
            "type": "barpolar"
           }
          ],
          "carpet": [
           {
            "aaxis": {
             "endlinecolor": "#2a3f5f",
             "gridcolor": "white",
             "linecolor": "white",
             "minorgridcolor": "white",
             "startlinecolor": "#2a3f5f"
            },
            "baxis": {
             "endlinecolor": "#2a3f5f",
             "gridcolor": "white",
             "linecolor": "white",
             "minorgridcolor": "white",
             "startlinecolor": "#2a3f5f"
            },
            "type": "carpet"
           }
          ],
          "choropleth": [
           {
            "colorbar": {
             "outlinewidth": 0,
             "ticks": ""
            },
            "type": "choropleth"
           }
          ],
          "contour": [
           {
            "colorbar": {
             "outlinewidth": 0,
             "ticks": ""
            },
            "colorscale": [
             [
              0,
              "#0d0887"
             ],
             [
              0.1111111111111111,
              "#46039f"
             ],
             [
              0.2222222222222222,
              "#7201a8"
             ],
             [
              0.3333333333333333,
              "#9c179e"
             ],
             [
              0.4444444444444444,
              "#bd3786"
             ],
             [
              0.5555555555555556,
              "#d8576b"
             ],
             [
              0.6666666666666666,
              "#ed7953"
             ],
             [
              0.7777777777777778,
              "#fb9f3a"
             ],
             [
              0.8888888888888888,
              "#fdca26"
             ],
             [
              1,
              "#f0f921"
             ]
            ],
            "type": "contour"
           }
          ],
          "contourcarpet": [
           {
            "colorbar": {
             "outlinewidth": 0,
             "ticks": ""
            },
            "type": "contourcarpet"
           }
          ],
          "heatmap": [
           {
            "colorbar": {
             "outlinewidth": 0,
             "ticks": ""
            },
            "colorscale": [
             [
              0,
              "#0d0887"
             ],
             [
              0.1111111111111111,
              "#46039f"
             ],
             [
              0.2222222222222222,
              "#7201a8"
             ],
             [
              0.3333333333333333,
              "#9c179e"
             ],
             [
              0.4444444444444444,
              "#bd3786"
             ],
             [
              0.5555555555555556,
              "#d8576b"
             ],
             [
              0.6666666666666666,
              "#ed7953"
             ],
             [
              0.7777777777777778,
              "#fb9f3a"
             ],
             [
              0.8888888888888888,
              "#fdca26"
             ],
             [
              1,
              "#f0f921"
             ]
            ],
            "type": "heatmap"
           }
          ],
          "heatmapgl": [
           {
            "colorbar": {
             "outlinewidth": 0,
             "ticks": ""
            },
            "colorscale": [
             [
              0,
              "#0d0887"
             ],
             [
              0.1111111111111111,
              "#46039f"
             ],
             [
              0.2222222222222222,
              "#7201a8"
             ],
             [
              0.3333333333333333,
              "#9c179e"
             ],
             [
              0.4444444444444444,
              "#bd3786"
             ],
             [
              0.5555555555555556,
              "#d8576b"
             ],
             [
              0.6666666666666666,
              "#ed7953"
             ],
             [
              0.7777777777777778,
              "#fb9f3a"
             ],
             [
              0.8888888888888888,
              "#fdca26"
             ],
             [
              1,
              "#f0f921"
             ]
            ],
            "type": "heatmapgl"
           }
          ],
          "histogram": [
           {
            "marker": {
             "pattern": {
              "fillmode": "overlay",
              "size": 10,
              "solidity": 0.2
             }
            },
            "type": "histogram"
           }
          ],
          "histogram2d": [
           {
            "colorbar": {
             "outlinewidth": 0,
             "ticks": ""
            },
            "colorscale": [
             [
              0,
              "#0d0887"
             ],
             [
              0.1111111111111111,
              "#46039f"
             ],
             [
              0.2222222222222222,
              "#7201a8"
             ],
             [
              0.3333333333333333,
              "#9c179e"
             ],
             [
              0.4444444444444444,
              "#bd3786"
             ],
             [
              0.5555555555555556,
              "#d8576b"
             ],
             [
              0.6666666666666666,
              "#ed7953"
             ],
             [
              0.7777777777777778,
              "#fb9f3a"
             ],
             [
              0.8888888888888888,
              "#fdca26"
             ],
             [
              1,
              "#f0f921"
             ]
            ],
            "type": "histogram2d"
           }
          ],
          "histogram2dcontour": [
           {
            "colorbar": {
             "outlinewidth": 0,
             "ticks": ""
            },
            "colorscale": [
             [
              0,
              "#0d0887"
             ],
             [
              0.1111111111111111,
              "#46039f"
             ],
             [
              0.2222222222222222,
              "#7201a8"
             ],
             [
              0.3333333333333333,
              "#9c179e"
             ],
             [
              0.4444444444444444,
              "#bd3786"
             ],
             [
              0.5555555555555556,
              "#d8576b"
             ],
             [
              0.6666666666666666,
              "#ed7953"
             ],
             [
              0.7777777777777778,
              "#fb9f3a"
             ],
             [
              0.8888888888888888,
              "#fdca26"
             ],
             [
              1,
              "#f0f921"
             ]
            ],
            "type": "histogram2dcontour"
           }
          ],
          "mesh3d": [
           {
            "colorbar": {
             "outlinewidth": 0,
             "ticks": ""
            },
            "type": "mesh3d"
           }
          ],
          "parcoords": [
           {
            "line": {
             "colorbar": {
              "outlinewidth": 0,
              "ticks": ""
             }
            },
            "type": "parcoords"
           }
          ],
          "pie": [
           {
            "automargin": true,
            "type": "pie"
           }
          ],
          "scatter": [
           {
            "fillpattern": {
             "fillmode": "overlay",
             "size": 10,
             "solidity": 0.2
            },
            "type": "scatter"
           }
          ],
          "scatter3d": [
           {
            "line": {
             "colorbar": {
              "outlinewidth": 0,
              "ticks": ""
             }
            },
            "marker": {
             "colorbar": {
              "outlinewidth": 0,
              "ticks": ""
             }
            },
            "type": "scatter3d"
           }
          ],
          "scattercarpet": [
           {
            "marker": {
             "colorbar": {
              "outlinewidth": 0,
              "ticks": ""
             }
            },
            "type": "scattercarpet"
           }
          ],
          "scattergeo": [
           {
            "marker": {
             "colorbar": {
              "outlinewidth": 0,
              "ticks": ""
             }
            },
            "type": "scattergeo"
           }
          ],
          "scattergl": [
           {
            "marker": {
             "colorbar": {
              "outlinewidth": 0,
              "ticks": ""
             }
            },
            "type": "scattergl"
           }
          ],
          "scattermapbox": [
           {
            "marker": {
             "colorbar": {
              "outlinewidth": 0,
              "ticks": ""
             }
            },
            "type": "scattermapbox"
           }
          ],
          "scatterpolar": [
           {
            "marker": {
             "colorbar": {
              "outlinewidth": 0,
              "ticks": ""
             }
            },
            "type": "scatterpolar"
           }
          ],
          "scatterpolargl": [
           {
            "marker": {
             "colorbar": {
              "outlinewidth": 0,
              "ticks": ""
             }
            },
            "type": "scatterpolargl"
           }
          ],
          "scatterternary": [
           {
            "marker": {
             "colorbar": {
              "outlinewidth": 0,
              "ticks": ""
             }
            },
            "type": "scatterternary"
           }
          ],
          "surface": [
           {
            "colorbar": {
             "outlinewidth": 0,
             "ticks": ""
            },
            "colorscale": [
             [
              0,
              "#0d0887"
             ],
             [
              0.1111111111111111,
              "#46039f"
             ],
             [
              0.2222222222222222,
              "#7201a8"
             ],
             [
              0.3333333333333333,
              "#9c179e"
             ],
             [
              0.4444444444444444,
              "#bd3786"
             ],
             [
              0.5555555555555556,
              "#d8576b"
             ],
             [
              0.6666666666666666,
              "#ed7953"
             ],
             [
              0.7777777777777778,
              "#fb9f3a"
             ],
             [
              0.8888888888888888,
              "#fdca26"
             ],
             [
              1,
              "#f0f921"
             ]
            ],
            "type": "surface"
           }
          ],
          "table": [
           {
            "cells": {
             "fill": {
              "color": "#EBF0F8"
             },
             "line": {
              "color": "white"
             }
            },
            "header": {
             "fill": {
              "color": "#C8D4E3"
             },
             "line": {
              "color": "white"
             }
            },
            "type": "table"
           }
          ]
         },
         "layout": {
          "annotationdefaults": {
           "arrowcolor": "#2a3f5f",
           "arrowhead": 0,
           "arrowwidth": 1
          },
          "autotypenumbers": "strict",
          "coloraxis": {
           "colorbar": {
            "outlinewidth": 0,
            "ticks": ""
           }
          },
          "colorscale": {
           "diverging": [
            [
             0,
             "#8e0152"
            ],
            [
             0.1,
             "#c51b7d"
            ],
            [
             0.2,
             "#de77ae"
            ],
            [
             0.3,
             "#f1b6da"
            ],
            [
             0.4,
             "#fde0ef"
            ],
            [
             0.5,
             "#f7f7f7"
            ],
            [
             0.6,
             "#e6f5d0"
            ],
            [
             0.7,
             "#b8e186"
            ],
            [
             0.8,
             "#7fbc41"
            ],
            [
             0.9,
             "#4d9221"
            ],
            [
             1,
             "#276419"
            ]
           ],
           "sequential": [
            [
             0,
             "#0d0887"
            ],
            [
             0.1111111111111111,
             "#46039f"
            ],
            [
             0.2222222222222222,
             "#7201a8"
            ],
            [
             0.3333333333333333,
             "#9c179e"
            ],
            [
             0.4444444444444444,
             "#bd3786"
            ],
            [
             0.5555555555555556,
             "#d8576b"
            ],
            [
             0.6666666666666666,
             "#ed7953"
            ],
            [
             0.7777777777777778,
             "#fb9f3a"
            ],
            [
             0.8888888888888888,
             "#fdca26"
            ],
            [
             1,
             "#f0f921"
            ]
           ],
           "sequentialminus": [
            [
             0,
             "#0d0887"
            ],
            [
             0.1111111111111111,
             "#46039f"
            ],
            [
             0.2222222222222222,
             "#7201a8"
            ],
            [
             0.3333333333333333,
             "#9c179e"
            ],
            [
             0.4444444444444444,
             "#bd3786"
            ],
            [
             0.5555555555555556,
             "#d8576b"
            ],
            [
             0.6666666666666666,
             "#ed7953"
            ],
            [
             0.7777777777777778,
             "#fb9f3a"
            ],
            [
             0.8888888888888888,
             "#fdca26"
            ],
            [
             1,
             "#f0f921"
            ]
           ]
          },
          "colorway": [
           "#636efa",
           "#EF553B",
           "#00cc96",
           "#ab63fa",
           "#FFA15A",
           "#19d3f3",
           "#FF6692",
           "#B6E880",
           "#FF97FF",
           "#FECB52"
          ],
          "font": {
           "color": "#2a3f5f"
          },
          "geo": {
           "bgcolor": "white",
           "lakecolor": "white",
           "landcolor": "#E5ECF6",
           "showlakes": true,
           "showland": true,
           "subunitcolor": "white"
          },
          "hoverlabel": {
           "align": "left"
          },
          "hovermode": "closest",
          "mapbox": {
           "style": "light"
          },
          "paper_bgcolor": "white",
          "plot_bgcolor": "#E5ECF6",
          "polar": {
           "angularaxis": {
            "gridcolor": "white",
            "linecolor": "white",
            "ticks": ""
           },
           "bgcolor": "#E5ECF6",
           "radialaxis": {
            "gridcolor": "white",
            "linecolor": "white",
            "ticks": ""
           }
          },
          "scene": {
           "xaxis": {
            "backgroundcolor": "#E5ECF6",
            "gridcolor": "white",
            "gridwidth": 2,
            "linecolor": "white",
            "showbackground": true,
            "ticks": "",
            "zerolinecolor": "white"
           },
           "yaxis": {
            "backgroundcolor": "#E5ECF6",
            "gridcolor": "white",
            "gridwidth": 2,
            "linecolor": "white",
            "showbackground": true,
            "ticks": "",
            "zerolinecolor": "white"
           },
           "zaxis": {
            "backgroundcolor": "#E5ECF6",
            "gridcolor": "white",
            "gridwidth": 2,
            "linecolor": "white",
            "showbackground": true,
            "ticks": "",
            "zerolinecolor": "white"
           }
          },
          "shapedefaults": {
           "line": {
            "color": "#2a3f5f"
           }
          },
          "ternary": {
           "aaxis": {
            "gridcolor": "white",
            "linecolor": "white",
            "ticks": ""
           },
           "baxis": {
            "gridcolor": "white",
            "linecolor": "white",
            "ticks": ""
           },
           "bgcolor": "#E5ECF6",
           "caxis": {
            "gridcolor": "white",
            "linecolor": "white",
            "ticks": ""
           }
          },
          "title": {
           "x": 0.05
          },
          "xaxis": {
           "automargin": true,
           "gridcolor": "white",
           "linecolor": "white",
           "ticks": "",
           "title": {
            "standoff": 15
           },
           "zerolinecolor": "white",
           "zerolinewidth": 2
          },
          "yaxis": {
           "automargin": true,
           "gridcolor": "white",
           "linecolor": "white",
           "ticks": "",
           "title": {
            "standoff": 15
           },
           "zerolinecolor": "white",
           "zerolinewidth": 2
          }
         }
        },
        "xaxis": {
         "anchor": "y",
         "domain": [
          0,
          1
         ],
         "title": {
          "text": "posicao"
         }
        },
        "yaxis": {
         "anchor": "x",
         "domain": [
          0,
          1
         ],
         "title": {
          "text": "velocidade"
         }
        }
       }
      }
     },
     "metadata": {},
     "output_type": "display_data"
    }
   ],
   "source": [
    "df = pd.read_csv('/home/jp/Documents/Ball-analysis/csv/4.csv', header= None)\n",
    "df = getDftoIntercept(df)\n",
    "#df.drop_duplicates(subset=['posicao'], keep='first', inplace=True)\n",
    "fig = px.line(df,x='posicao',y='velocidade')\n",
    "fig.show()"
   ]
  },
  {
   "cell_type": "code",
   "execution_count": 17,
   "metadata": {},
   "outputs": [
    {
     "name": "stdout",
     "output_type": "stream",
     "text": [
      "posicao       3.565463\n",
      "velocidade    3.849820\n",
      "Name: 59, dtype: float64\n"
     ]
    }
   ],
   "source": [
    "print(df.iloc[15])"
   ]
  },
  {
   "cell_type": "markdown",
   "metadata": {},
   "source": [
    "### This Pair are: \n",
    "### To Start: (first position with point in a Reta1, Last Position with point in a Reta1)\n",
    "### To Stop: (First position with point in a Reta2, Last Position with point in a Reta2)"
   ]
  },
  {
   "cell_type": "code",
   "execution_count": 7,
   "metadata": {},
   "outputs": [],
   "source": [
    "start = [(0,7),(5,11),(0, 14), (3, 20), (10, 17), (10,20), (7, 25), (13,30)]\n",
    "stop = [(10,40),(80, 120),(100, 200), (21, 150), (40, 100), (45, 81), (45, 60), (38,50)]"
   ]
  },
  {
   "cell_type": "code",
   "execution_count": 6,
   "metadata": {},
   "outputs": [],
   "source": [
    "start = [(3,5),(0,4),(3,8)]\n",
    "stop = [(10,28),(5,15),(10,15)]"
   ]
  },
  {
   "cell_type": "markdown",
   "metadata": {},
   "source": [
    "### Print all dataframes"
   ]
  },
  {
   "cell_type": "code",
   "execution_count": 7,
   "metadata": {},
   "outputs": [
    {
     "data": {
      "image/png": "[encoded data removed]",
      "text/plain": [
       "<Figure size 432x288 with 1 Axes>"
      ]
     },
     "metadata": {
      "needs_background": "light"
     },
     "output_type": "display_data"
    }
   ],
   "source": [
    "dataframes = []\n",
    "firsts = []\n",
    "ax = plt.subplot()\n",
    "for i in range(2,10):\n",
    "    dataframes.append(pd.read_csv('/home/jp/Documents/Ball-analysis/csv/'+str(i)+'.csv', header= None))\n",
    "    firsts.append(dataframes[len(dataframes)-1].iloc[0])\n",
    "    dataframes[len(dataframes)-1].drop(0, axis=0, inplace= True)\n",
    "    dataframes[len(dataframes)-1] = getDf(dataframes[len(dataframes)-1], firsts[len(firsts)-1])\n",
    "    ax = dataframes[len(dataframes)-1].plot(ax = ax, x = 'posicao',y = 'velocidade', kind = 'line', label = str(i))\n"
   ]
  },
  {
   "cell_type": "markdown",
   "metadata": {},
   "source": [
    "### This function get a new df equals \"getDf\", but has a filter to remove duplicates and get only points after max vel, to remove the vel in adjust angle of robot"
   ]
  },
  {
   "cell_type": "code",
   "execution_count": 4,
   "metadata": {},
   "outputs": [],
   "source": [
    "def getDftoIntercept(dfregressao):\n",
    "    dfregressao1 = pd.DataFrame(columns=['posicao', 'velocidade'])\n",
    "    start = dfregressao.iloc[0]\n",
    "    dfregressao.drop(0, axis=0, inplace= True)\n",
    "    dfregressao1 = getDf(dfregressao, start)\n",
    "    max = dfregressao1.max(axis=0)[1]\n",
    "    index = dfregressao1[dfregressao1['velocidade'] == max].index[0]\n",
    "    dfregressao1 = dfregressao1.iloc[index:]\n",
    "    return dfregressao1.drop_duplicates(subset=['posicao'], keep='first', inplace=False)\n",
    "    "
   ]
  },
  {
   "cell_type": "markdown",
   "metadata": {},
   "source": [
    "### getAlpha in a straight\n",
    "### getBeta in a straight\n",
    "### get Y in a straight equation"
   ]
  },
  {
   "cell_type": "code",
   "execution_count": 7,
   "metadata": {},
   "outputs": [],
   "source": [
    "def getA(x,y,x2,y2):\n",
    "    return (y2-y)/(x2-x)\n",
    "def getB(a,x,y):\n",
    "    return y - a*x\n",
    "def reta(a,b,x):\n",
    "    return a*x + b"
   ]
  },
  {
   "cell_type": "code",
   "execution_count": 8,
   "metadata": {},
   "outputs": [],
   "source": [
    "def getRegressao(a, b, r):\n",
    "    dfreta = pd.DataFrame(columns=['posicao', 'velocidade'])\n",
    "    for i in range(r):\n",
    "        y = reta(a,b,i)\n",
    "        dfreta.loc[i] = [i, y]\n",
    "    return dfreta\n"
   ]
  },
  {
   "cell_type": "markdown",
   "metadata": {},
   "source": [
    "### Get interception of two straights"
   ]
  },
  {
   "cell_type": "code",
   "execution_count": 9,
   "metadata": {},
   "outputs": [],
   "source": [
    "def getInterception(a,b,a1,b1):\n",
    "    x = (b-b1)/(a1-a)\n",
    "    y = reta(a,b,x)\n",
    "    return(x,y)"
   ]
  },
  {
   "cell_type": "markdown",
   "metadata": {},
   "source": [
    "### For all csv in a range, append the force and a df with (module, vel) collums"
   ]
  },
  {
   "cell_type": "code",
   "execution_count": 10,
   "metadata": {},
   "outputs": [],
   "source": [
    "dfprecision = []\n",
    "forcas = []\n",
    "for i in range(2,5):\n",
    "    dataframe = pd.read_csv('/home/jp/Documents/ssl-unification/csvs/'+str(i)+'.csv', header= None)\n",
    "    dfprecision.append(getDftoIntercept(dataframe))\n",
    "    forcas.append(i)"
   ]
  },
  {
   "cell_type": "code",
   "execution_count": 11,
   "metadata": {},
   "outputs": [
    {
     "data": {
      "image/png": "[encoded data removed]",
      "text/plain": [
       "<Figure size 432x288 with 1 Axes>"
      ]
     },
     "metadata": {
      "needs_background": "light"
     },
     "output_type": "display_data"
    }
   ],
   "source": [
    "ax = plt.subplot()\n",
    "for i in range(len(dfprecision)):\n",
    "    ax = dfprecision[i].plot(ax = ax, x = 'posicao',y = 'velocidade', kind = 'line', label = str(forcas[i]))\n",
    "    "
   ]
  },
  {
   "cell_type": "code",
   "execution_count": 12,
   "metadata": {},
   "outputs": [
    {
     "data": {
      "image/png": "[encoded data removed]",
      "text/plain": [
       "<Figure size 432x288 with 1 Axes>"
      ]
     },
     "metadata": {},
     "output_type": "display_data"
    },
    {
     "data": {
      "image/png": "[encoded data removed]",
      "text/plain": [
       "<Figure size 432x288 with 1 Axes>"
      ]
     },
     "metadata": {},
     "output_type": "display_data"
    },
    {
     "data": {
      "image/png": "[encoded data removed]",
      "text/plain": [
       "<Figure size 432x288 with 1 Axes>"
      ]
     },
     "metadata": {},
     "output_type": "display_data"
    }
   ],
   "source": [
    "angular1 = []\n",
    "angular2 = []\n",
    "linear1 = []\n",
    "linear2 = []\n",
    "count = 0\n",
    "for i in dfprecision:\n",
    "    # get points using slice\n",
    "    points1 = i.iloc[start[count][0]:start[count][1]]\n",
    "    points2 = i.iloc[stop[count][0]: stop[count][1]]\n",
    "    # declare a linear regression object\n",
    "    reg = linear_model.LinearRegression()\n",
    "    reg2 = linear_model.LinearRegression()\n",
    "    # train using only the points in the slice\n",
    "    reg.fit(points1[['posicao']], points1[['velocidade']])\n",
    "    reg2.fit(points2[['posicao']], points2[['velocidade']])\n",
    "    # append the coefficients\n",
    "    angular1.append(reg.coef_)\n",
    "    angular2.append(reg2.coef_)\n",
    "    linear1.append(reg.intercept_)\n",
    "    linear2.append(reg2.intercept_)\n",
    "    # plot graphs\n",
    "    plt.scatter(i['posicao'], i['velocidade'], color='blue')\n",
    "    plt.plot(i['posicao'], reg.predict(i[['posicao']]), color='red', linewidth=3)\n",
    "    plt.plot(i['posicao'], reg2.predict(i[['posicao']]), color='red', linewidth=3)\n",
    "    plt.xticks(())\n",
    "    plt.yticks(())\n",
    "    plt.show()\n",
    "    count += 1"
   ]
  },
  {
   "cell_type": "code",
   "execution_count": 13,
   "metadata": {},
   "outputs": [],
   "source": [
    "interceptions = pd.DataFrame(columns=['dist', 'vel'])\n",
    "retas1 = []\n",
    "retas2 = []\n",
    "# get interception points and straight lines\n",
    "for i in range(len(angular1)):\n",
    "    point = (getInterception(float(angular1[i]), float(linear1[i]), float(angular2[i]), float(linear2[i])))\n",
    "    interceptions.loc[i] = [point[0], point[1]]\n",
    "    retas1.append(getRegressao(float(angular1[i]), float(linear1[i]), 8))\n",
    "    retas2.append(getRegressao(float(angular2[i]), float(linear2[i]), 8))\n",
    "\n",
    "\n",
    "    "
   ]
  },
  {
   "cell_type": "code",
   "execution_count": 14,
   "metadata": {},
   "outputs": [
    {
     "data": {
      "image/png": "[encoded data removed]",
      "text/plain": [
       "<Figure size 432x288 with 1 Axes>"
      ]
     },
     "metadata": {
      "needs_background": "light"
     },
     "output_type": "display_data"
    }
   ],
   "source": [
    "ax = plt.subplot()\n",
    "for i in retas1:\n",
    "    ax = i.plot(ax = ax, x = 'posicao',y = 'velocidade', kind = 'line')"
   ]
  },
  {
   "cell_type": "code",
   "execution_count": 15,
   "metadata": {},
   "outputs": [
    {
     "data": {
      "image/png": "[encoded data removed]",
      "text/plain": [
       "<Figure size 432x288 with 1 Axes>"
      ]
     },
     "metadata": {
      "needs_background": "light"
     },
     "output_type": "display_data"
    }
   ],
   "source": [
    "ax = plt.subplot()\n",
    "for i in retas2:\n",
    "    ax = i.plot(ax = ax, x = 'posicao',y = 'velocidade', kind = 'line')"
   ]
  },
  {
   "cell_type": "code",
   "execution_count": 16,
   "metadata": {},
   "outputs": [
    {
     "data": {
      "text/plain": [
       "<AxesSubplot:xlabel='dist', ylabel='vel'>"
      ]
     },
     "execution_count": 16,
     "metadata": {},
     "output_type": "execute_result"
    },
    {
     "data": {
      "image/png": "[encoded data removed]",
      "text/plain": [
       "<Figure size 432x288 with 1 Axes>"
      ]
     },
     "metadata": {
      "needs_background": "light"
     },
     "output_type": "display_data"
    }
   ],
   "source": [
    "interceptions.plot(x = 'dist',y = 'vel', kind = 'scatter', label = 'Interseção')"
   ]
  },
  {
   "cell_type": "code",
   "execution_count": 18,
   "metadata": {},
   "outputs": [
    {
     "data": {
      "text/plain": [
       "3"
      ]
     },
     "execution_count": 18,
     "metadata": {},
     "output_type": "execute_result"
    }
   ],
   "source": [
    "len(forcas)"
   ]
  },
  {
   "cell_type": "code",
   "execution_count": 17,
   "metadata": {},
   "outputs": [
    {
     "data": {
      "text/html": [
       "<style>#sk-container-id-1 {color: black;background-color: white;}#sk-container-id-1 pre{padding: 0;}#sk-container-id-1 div.sk-toggleable {background-color: white;}#sk-container-id-1 label.sk-toggleable__label {cursor: pointer;display: block;width: 100%;margin-bottom: 0;padding: 0.3em;box-sizing: border-box;text-align: center;}#sk-container-id-1 label.sk-toggleable__label-arrow:before {content: \"▸\";float: left;margin-right: 0.25em;color: #696969;}#sk-container-id-1 label.sk-toggleable__label-arrow:hover:before {color: black;}#sk-container-id-1 div.sk-estimator:hover label.sk-toggleable__label-arrow:before {color: black;}#sk-container-id-1 div.sk-toggleable__content {max-height: 0;max-width: 0;overflow: hidden;text-align: left;background-color: #f0f8ff;}#sk-container-id-1 div.sk-toggleable__content pre {margin: 0.2em;color: black;border-radius: 0.25em;background-color: #f0f8ff;}#sk-container-id-1 input.sk-toggleable__control:checked~div.sk-toggleable__content {max-height: 200px;max-width: 100%;overflow: auto;}#sk-container-id-1 input.sk-toggleable__control:checked~label.sk-toggleable__label-arrow:before {content: \"▾\";}#sk-container-id-1 div.sk-estimator input.sk-toggleable__control:checked~label.sk-toggleable__label {background-color: #d4ebff;}#sk-container-id-1 div.sk-label input.sk-toggleable__control:checked~label.sk-toggleable__label {background-color: #d4ebff;}#sk-container-id-1 input.sk-hidden--visually {border: 0;clip: rect(1px 1px 1px 1px);clip: rect(1px, 1px, 1px, 1px);height: 1px;margin: -1px;overflow: hidden;padding: 0;position: absolute;width: 1px;}#sk-container-id-1 div.sk-estimator {font-family: monospace;background-color: #f0f8ff;border: 1px dotted black;border-radius: 0.25em;box-sizing: border-box;margin-bottom: 0.5em;}#sk-container-id-1 div.sk-estimator:hover {background-color: #d4ebff;}#sk-container-id-1 div.sk-parallel-item::after {content: \"\";width: 100%;border-bottom: 1px solid gray;flex-grow: 1;}#sk-container-id-1 div.sk-label:hover label.sk-toggleable__label {background-color: #d4ebff;}#sk-container-id-1 div.sk-serial::before {content: \"\";position: absolute;border-left: 1px solid gray;box-sizing: border-box;top: 0;bottom: 0;left: 50%;z-index: 0;}#sk-container-id-1 div.sk-serial {display: flex;flex-direction: column;align-items: center;background-color: white;padding-right: 0.2em;padding-left: 0.2em;position: relative;}#sk-container-id-1 div.sk-item {position: relative;z-index: 1;}#sk-container-id-1 div.sk-parallel {display: flex;align-items: stretch;justify-content: center;background-color: white;position: relative;}#sk-container-id-1 div.sk-item::before, #sk-container-id-1 div.sk-parallel-item::before {content: \"\";position: absolute;border-left: 1px solid gray;box-sizing: border-box;top: 0;bottom: 0;left: 50%;z-index: -1;}#sk-container-id-1 div.sk-parallel-item {display: flex;flex-direction: column;z-index: 1;position: relative;background-color: white;}#sk-container-id-1 div.sk-parallel-item:first-child::after {align-self: flex-end;width: 50%;}#sk-container-id-1 div.sk-parallel-item:last-child::after {align-self: flex-start;width: 50%;}#sk-container-id-1 div.sk-parallel-item:only-child::after {width: 0;}#sk-container-id-1 div.sk-dashed-wrapped {border: 1px dashed gray;margin: 0 0.4em 0.5em 0.4em;box-sizing: border-box;padding-bottom: 0.4em;background-color: white;}#sk-container-id-1 div.sk-label label {font-family: monospace;font-weight: bold;display: inline-block;line-height: 1.2em;}#sk-container-id-1 div.sk-label-container {text-align: center;}#sk-container-id-1 div.sk-container {/* jupyter's `normalize.less` sets `[hidden] { display: none; }` but bootstrap.min.css set `[hidden] { display: none !important; }` so we also need the `!important` here to be able to override the default hidden behavior on the sphinx rendered scikit-learn.org. See: https://github.com/scikit-learn/scikit-learn/issues/21755 */display: inline-block !important;position: relative;}#sk-container-id-1 div.sk-text-repr-fallback {display: none;}</style><div id=\"sk-container-id-1\" class=\"sk-top-container\"><div class=\"sk-text-repr-fallback\"><pre>LinearRegression()</pre><b>In a Jupyter environment, please rerun this cell to show the HTML representation or trust the notebook. <br />On GitHub, the HTML representation is unable to render, please try loading this page with nbviewer.org.</b></div><div class=\"sk-container\" hidden><div class=\"sk-item\"><div class=\"sk-estimator sk-toggleable\"><input class=\"sk-toggleable__control sk-hidden--visually\" id=\"sk-estimator-id-1\" type=\"checkbox\" checked><label for=\"sk-estimator-id-1\" class=\"sk-toggleable__label sk-toggleable__label-arrow\">LinearRegression</label><div class=\"sk-toggleable__content\"><pre>LinearRegression()</pre></div></div></div></div></div>"
      ],
      "text/plain": [
       "LinearRegression()"
      ]
     },
     "execution_count": 17,
     "metadata": {},
     "output_type": "execute_result"
    }
   ],
   "source": [
    "# train using angular coefficients to get a general value\n",
    "reta1a = pd.DataFrame(columns=['forca', 'angular'])\n",
    "reta2a = pd.DataFrame(columns=['forca', 'angular'])\n",
    "for i in range(len(forcas)):\n",
    "    reta1a.loc[i] = [forcas[i], angular1[i]]\n",
    "for i in range(len(forcas)):\n",
    "    reta2a.loc[i] = [forcas[i], angular2[i]]\n",
    "rega1 = linear_model.LinearRegression()\n",
    "rega2 = linear_model.LinearRegression()\n",
    "rega1.fit(reta1a[['forca']], reta1a[['angular']])\n",
    "rega2.fit(reta2a[['forca']], reta2a[['angular']])"
   ]
  },
  {
   "cell_type": "code",
   "execution_count": 18,
   "metadata": {},
   "outputs": [
    {
     "data": {
      "text/html": [
       "<style>#sk-container-id-2 {color: black;background-color: white;}#sk-container-id-2 pre{padding: 0;}#sk-container-id-2 div.sk-toggleable {background-color: white;}#sk-container-id-2 label.sk-toggleable__label {cursor: pointer;display: block;width: 100%;margin-bottom: 0;padding: 0.3em;box-sizing: border-box;text-align: center;}#sk-container-id-2 label.sk-toggleable__label-arrow:before {content: \"▸\";float: left;margin-right: 0.25em;color: #696969;}#sk-container-id-2 label.sk-toggleable__label-arrow:hover:before {color: black;}#sk-container-id-2 div.sk-estimator:hover label.sk-toggleable__label-arrow:before {color: black;}#sk-container-id-2 div.sk-toggleable__content {max-height: 0;max-width: 0;overflow: hidden;text-align: left;background-color: #f0f8ff;}#sk-container-id-2 div.sk-toggleable__content pre {margin: 0.2em;color: black;border-radius: 0.25em;background-color: #f0f8ff;}#sk-container-id-2 input.sk-toggleable__control:checked~div.sk-toggleable__content {max-height: 200px;max-width: 100%;overflow: auto;}#sk-container-id-2 input.sk-toggleable__control:checked~label.sk-toggleable__label-arrow:before {content: \"▾\";}#sk-container-id-2 div.sk-estimator input.sk-toggleable__control:checked~label.sk-toggleable__label {background-color: #d4ebff;}#sk-container-id-2 div.sk-label input.sk-toggleable__control:checked~label.sk-toggleable__label {background-color: #d4ebff;}#sk-container-id-2 input.sk-hidden--visually {border: 0;clip: rect(1px 1px 1px 1px);clip: rect(1px, 1px, 1px, 1px);height: 1px;margin: -1px;overflow: hidden;padding: 0;position: absolute;width: 1px;}#sk-container-id-2 div.sk-estimator {font-family: monospace;background-color: #f0f8ff;border: 1px dotted black;border-radius: 0.25em;box-sizing: border-box;margin-bottom: 0.5em;}#sk-container-id-2 div.sk-estimator:hover {background-color: #d4ebff;}#sk-container-id-2 div.sk-parallel-item::after {content: \"\";width: 100%;border-bottom: 1px solid gray;flex-grow: 1;}#sk-container-id-2 div.sk-label:hover label.sk-toggleable__label {background-color: #d4ebff;}#sk-container-id-2 div.sk-serial::before {content: \"\";position: absolute;border-left: 1px solid gray;box-sizing: border-box;top: 0;bottom: 0;left: 50%;z-index: 0;}#sk-container-id-2 div.sk-serial {display: flex;flex-direction: column;align-items: center;background-color: white;padding-right: 0.2em;padding-left: 0.2em;position: relative;}#sk-container-id-2 div.sk-item {position: relative;z-index: 1;}#sk-container-id-2 div.sk-parallel {display: flex;align-items: stretch;justify-content: center;background-color: white;position: relative;}#sk-container-id-2 div.sk-item::before, #sk-container-id-2 div.sk-parallel-item::before {content: \"\";position: absolute;border-left: 1px solid gray;box-sizing: border-box;top: 0;bottom: 0;left: 50%;z-index: -1;}#sk-container-id-2 div.sk-parallel-item {display: flex;flex-direction: column;z-index: 1;position: relative;background-color: white;}#sk-container-id-2 div.sk-parallel-item:first-child::after {align-self: flex-end;width: 50%;}#sk-container-id-2 div.sk-parallel-item:last-child::after {align-self: flex-start;width: 50%;}#sk-container-id-2 div.sk-parallel-item:only-child::after {width: 0;}#sk-container-id-2 div.sk-dashed-wrapped {border: 1px dashed gray;margin: 0 0.4em 0.5em 0.4em;box-sizing: border-box;padding-bottom: 0.4em;background-color: white;}#sk-container-id-2 div.sk-label label {font-family: monospace;font-weight: bold;display: inline-block;line-height: 1.2em;}#sk-container-id-2 div.sk-label-container {text-align: center;}#sk-container-id-2 div.sk-container {/* jupyter's `normalize.less` sets `[hidden] { display: none; }` but bootstrap.min.css set `[hidden] { display: none !important; }` so we also need the `!important` here to be able to override the default hidden behavior on the sphinx rendered scikit-learn.org. See: https://github.com/scikit-learn/scikit-learn/issues/21755 */display: inline-block !important;position: relative;}#sk-container-id-2 div.sk-text-repr-fallback {display: none;}</style><div id=\"sk-container-id-2\" class=\"sk-top-container\"><div class=\"sk-text-repr-fallback\"><pre>LinearRegression()</pre><b>In a Jupyter environment, please rerun this cell to show the HTML representation or trust the notebook. <br />On GitHub, the HTML representation is unable to render, please try loading this page with nbviewer.org.</b></div><div class=\"sk-container\" hidden><div class=\"sk-item\"><div class=\"sk-estimator sk-toggleable\"><input class=\"sk-toggleable__control sk-hidden--visually\" id=\"sk-estimator-id-2\" type=\"checkbox\" checked><label for=\"sk-estimator-id-2\" class=\"sk-toggleable__label sk-toggleable__label-arrow\">LinearRegression</label><div class=\"sk-toggleable__content\"><pre>LinearRegression()</pre></div></div></div></div></div>"
      ],
      "text/plain": [
       "LinearRegression()"
      ]
     },
     "execution_count": 18,
     "metadata": {},
     "output_type": "execute_result"
    }
   ],
   "source": [
    "# train using linear coefficients to get a general value\n",
    "reta1b = pd.DataFrame(columns=['forca', 'linear'])\n",
    "reta2b = pd.DataFrame(columns=['forca', 'linear'])\n",
    "for i in range(len(forcas)):\n",
    "    reta1b.loc[i] = [forcas[i], linear1[i]]\n",
    "for i in range(len(forcas)):\n",
    "    reta2b.loc[i] = [forcas[i], linear2[i]]\n",
    "regb1 = linear_model.LinearRegression()\n",
    "regb2 = linear_model.LinearRegression()\n",
    "regb1.fit(reta1b[['forca']], reta1b[['linear']])\n",
    "regb2.fit(reta2b[['forca']], reta2b[['linear']])\n"
   ]
  },
  {
   "cell_type": "code",
   "execution_count": 19,
   "metadata": {},
   "outputs": [],
   "source": [
    "a = regb1.predict(reta1b[['forca']])\n",
    "b = regb2.predict(reta2b[['forca']])"
   ]
  },
  {
   "cell_type": "code",
   "execution_count": 20,
   "metadata": {},
   "outputs": [],
   "source": [
    "# predict beta1\n",
    "def predictb1(x):\n",
    "    return float(regb1.coef_*x + regb1.intercept_)\n",
    "# predict beta2\n",
    "def predictb2(x):\n",
    "    return float(regb2.coef_*x + regb2.intercept_)\n",
    "# predict alpha1\n",
    "def predicta1(x):\n",
    "    return float(rega1.coef_*x + rega1.intercept_)\n",
    "# predict alpha2\n",
    "def predicta2(x):\n",
    "    return float(rega2.coef_*x + rega2.intercept_)"
   ]
  },
  {
   "cell_type": "code",
   "execution_count": 21,
   "metadata": {},
   "outputs": [],
   "source": [
    "# get reta1\n",
    "def reta1(x, f):\n",
    "    return predicta1(f)*x +predictb1(f)\n",
    "#get reta2\n",
    "def reta2(x,f):\n",
    "    return predicta2(f)*x +predictb2(f)"
   ]
  },
  {
   "cell_type": "code",
   "execution_count": 22,
   "metadata": {},
   "outputs": [],
   "source": [
    "# get a speed in a position using initial force\n",
    "def speed(x, f):\n",
    "    x_intersection = getInterception(predicta1(f), predictb1(f), predicta2(f), predictb2(f))[0]\n",
    "    if(x < x_intersection):\n",
    "        return reta1(x, f)\n",
    "    if(x > x_intersection):\n",
    "        return reta2(x, f)"
   ]
  },
  {
   "cell_type": "code",
   "execution_count": 23,
   "metadata": {},
   "outputs": [],
   "source": [
    "#predict of our model to all forces\n",
    "\n",
    "predforcas = [2,3,4]\n",
    "estimated = []\n",
    "for i in predforcas:\n",
    "    testFunction = pd.DataFrame(columns=['posicao', 'velocidade predita'])\n",
    "    for j in range(len(dfprecision[2])):\n",
    "        testFunction.loc[j] = [dfprecision[2]['posicao'].iloc[j], float(speed(dfprecision[2]['posicao'].iloc[j], i))]\n",
    "    estimated.append(testFunction)\n"
   ]
  },
  {
   "cell_type": "code",
   "execution_count": 24,
   "metadata": {},
   "outputs": [
    {
     "data": {
      "image/png": "[encoded data removed]",
      "text/plain": [
       "<Figure size 432x288 with 1 Axes>"
      ]
     },
     "metadata": {
      "needs_background": "light"
     },
     "output_type": "display_data"
    }
   ],
   "source": [
    "ax = plt.subplot()\n",
    "for i in estimated:\n",
    "    plt.plot(i['posicao'], i['velocidade predita'], color='red', linewidth=3)\n",
    "for i in dfprecision:\n",
    "    plt.plot(i['posicao'],i['velocidade'], color = 'blue', linewidth=3)\n",
    "plt.show()"
   ]
  },
  {
   "cell_type": "code",
   "execution_count": 25,
   "metadata": {},
   "outputs": [
    {
     "data": {
      "text/plain": [
       "<AxesSubplot:xlabel='posicao'>"
      ]
     },
     "execution_count": 25,
     "metadata": {},
     "output_type": "execute_result"
    },
    {
     "data": {
      "image/png": "[encoded data removed]",
      "text/plain": [
       "<Figure size 432x288 with 1 Axes>"
      ]
     },
     "metadata": {
      "needs_background": "light"
     },
     "output_type": "display_data"
    }
   ],
   "source": [
    "df55 = pd.read_csv('/home/jp/Documents/ssl-unification/csvs/4.csv', header= None)\n",
    "#df55 = pd.read_csv('/home/jp/Documents/ssl-unification/bin/output.csv', header= None)\n",
    "df55 = getDftoIntercept(df55)\n",
    "df55.plot(x = 0, y = 1, kind = 'line')\n"
   ]
  },
  {
   "cell_type": "code",
   "execution_count": 26,
   "metadata": {},
   "outputs": [
    {
     "data": {
      "text/plain": [
       "<AxesSubplot:xlabel='posicao'>"
      ]
     },
     "execution_count": 26,
     "metadata": {},
     "output_type": "execute_result"
    },
    {
     "data": {
      "image/png": "[encoded data removed]",
      "text/plain": [
       "<Figure size 432x288 with 1 Axes>"
      ]
     },
     "metadata": {
      "needs_background": "light"
     },
     "output_type": "display_data"
    }
   ],
   "source": [
    "# compare the model with the real data\n",
    "predictdf55 = pd.DataFrame(columns=['posicao', 'velocidade predita'])\n",
    "for i in range(len(df55)):\n",
    "    predictdf55.loc[i] = [df55.iloc[i][0], float(speed(df55.iloc[i][0], 4))]\n",
    "ax = predictdf55.plot(x = 'posicao', y = 'velocidade predita', kind = 'line')\n",
    "df55.plot(ax = ax, x = 0, y = 1, kind = 'line')"
   ]
  },
  {
   "cell_type": "code",
   "execution_count": 27,
   "metadata": {},
   "outputs": [
    {
     "data": {
      "text/html": [
       "<style>#sk-container-id-3 {color: black;background-color: white;}#sk-container-id-3 pre{padding: 0;}#sk-container-id-3 div.sk-toggleable {background-color: white;}#sk-container-id-3 label.sk-toggleable__label {cursor: pointer;display: block;width: 100%;margin-bottom: 0;padding: 0.3em;box-sizing: border-box;text-align: center;}#sk-container-id-3 label.sk-toggleable__label-arrow:before {content: \"▸\";float: left;margin-right: 0.25em;color: #696969;}#sk-container-id-3 label.sk-toggleable__label-arrow:hover:before {color: black;}#sk-container-id-3 div.sk-estimator:hover label.sk-toggleable__label-arrow:before {color: black;}#sk-container-id-3 div.sk-toggleable__content {max-height: 0;max-width: 0;overflow: hidden;text-align: left;background-color: #f0f8ff;}#sk-container-id-3 div.sk-toggleable__content pre {margin: 0.2em;color: black;border-radius: 0.25em;background-color: #f0f8ff;}#sk-container-id-3 input.sk-toggleable__control:checked~div.sk-toggleable__content {max-height: 200px;max-width: 100%;overflow: auto;}#sk-container-id-3 input.sk-toggleable__control:checked~label.sk-toggleable__label-arrow:before {content: \"▾\";}#sk-container-id-3 div.sk-estimator input.sk-toggleable__control:checked~label.sk-toggleable__label {background-color: #d4ebff;}#sk-container-id-3 div.sk-label input.sk-toggleable__control:checked~label.sk-toggleable__label {background-color: #d4ebff;}#sk-container-id-3 input.sk-hidden--visually {border: 0;clip: rect(1px 1px 1px 1px);clip: rect(1px, 1px, 1px, 1px);height: 1px;margin: -1px;overflow: hidden;padding: 0;position: absolute;width: 1px;}#sk-container-id-3 div.sk-estimator {font-family: monospace;background-color: #f0f8ff;border: 1px dotted black;border-radius: 0.25em;box-sizing: border-box;margin-bottom: 0.5em;}#sk-container-id-3 div.sk-estimator:hover {background-color: #d4ebff;}#sk-container-id-3 div.sk-parallel-item::after {content: \"\";width: 100%;border-bottom: 1px solid gray;flex-grow: 1;}#sk-container-id-3 div.sk-label:hover label.sk-toggleable__label {background-color: #d4ebff;}#sk-container-id-3 div.sk-serial::before {content: \"\";position: absolute;border-left: 1px solid gray;box-sizing: border-box;top: 0;bottom: 0;left: 50%;z-index: 0;}#sk-container-id-3 div.sk-serial {display: flex;flex-direction: column;align-items: center;background-color: white;padding-right: 0.2em;padding-left: 0.2em;position: relative;}#sk-container-id-3 div.sk-item {position: relative;z-index: 1;}#sk-container-id-3 div.sk-parallel {display: flex;align-items: stretch;justify-content: center;background-color: white;position: relative;}#sk-container-id-3 div.sk-item::before, #sk-container-id-3 div.sk-parallel-item::before {content: \"\";position: absolute;border-left: 1px solid gray;box-sizing: border-box;top: 0;bottom: 0;left: 50%;z-index: -1;}#sk-container-id-3 div.sk-parallel-item {display: flex;flex-direction: column;z-index: 1;position: relative;background-color: white;}#sk-container-id-3 div.sk-parallel-item:first-child::after {align-self: flex-end;width: 50%;}#sk-container-id-3 div.sk-parallel-item:last-child::after {align-self: flex-start;width: 50%;}#sk-container-id-3 div.sk-parallel-item:only-child::after {width: 0;}#sk-container-id-3 div.sk-dashed-wrapped {border: 1px dashed gray;margin: 0 0.4em 0.5em 0.4em;box-sizing: border-box;padding-bottom: 0.4em;background-color: white;}#sk-container-id-3 div.sk-label label {font-family: monospace;font-weight: bold;display: inline-block;line-height: 1.2em;}#sk-container-id-3 div.sk-label-container {text-align: center;}#sk-container-id-3 div.sk-container {/* jupyter's `normalize.less` sets `[hidden] { display: none; }` but bootstrap.min.css set `[hidden] { display: none !important; }` so we also need the `!important` here to be able to override the default hidden behavior on the sphinx rendered scikit-learn.org. See: https://github.com/scikit-learn/scikit-learn/issues/21755 */display: inline-block !important;position: relative;}#sk-container-id-3 div.sk-text-repr-fallback {display: none;}</style><div id=\"sk-container-id-3\" class=\"sk-top-container\"><div class=\"sk-text-repr-fallback\"><pre>LinearRegression()</pre><b>In a Jupyter environment, please rerun this cell to show the HTML representation or trust the notebook. <br />On GitHub, the HTML representation is unable to render, please try loading this page with nbviewer.org.</b></div><div class=\"sk-container\" hidden><div class=\"sk-item\"><div class=\"sk-estimator sk-toggleable\"><input class=\"sk-toggleable__control sk-hidden--visually\" id=\"sk-estimator-id-3\" type=\"checkbox\" checked><label for=\"sk-estimator-id-3\" class=\"sk-toggleable__label sk-toggleable__label-arrow\">LinearRegression</label><div class=\"sk-toggleable__content\"><pre>LinearRegression()</pre></div></div></div></div></div>"
      ],
      "text/plain": [
       "LinearRegression()"
      ]
     },
     "execution_count": 27,
     "metadata": {},
     "output_type": "execute_result"
    }
   ],
   "source": [
    "# get the intercept straight\n",
    "intercptCoeficients = linear_model.LinearRegression()\n",
    "intercptCoeficients.fit(interceptions[['dist']], interceptions[['vel']])"
   ]
  },
  {
   "cell_type": "code",
   "execution_count": 88,
   "metadata": {},
   "outputs": [
    {
     "data": {
      "text/plain": [
       "array([1.51503451])"
      ]
     },
     "execution_count": 88,
     "metadata": {},
     "output_type": "execute_result"
    }
   ],
   "source": [
    "intercptCoeficients.intercept_"
   ]
  },
  {
   "cell_type": "code",
   "execution_count": 45,
   "metadata": {},
   "outputs": [],
   "source": [
    "#reta1\n",
    "#alpha1 = rega1.coef_ -- 0.00022651\n",
    "#beta1 = rega1.intercept_ -- -0.00238242\n",
    "#alpha2 = regb1.coef_ -- 1.02904493\n",
    "#beta2 = regb1.intercept_ -- -0.04840716\n",
    "\n",
    "#reta2\n",
    "#alpha1 = rega2.coef_ -- 3.77986975e-05\n",
    "#beta1 = rega2.intercept_ -- -0.00038448\n",
    "#alpha2 = regb2.coef_ -- 0.73483058\n",
    "#beta2 = regb2.intercept_ -- 0.0063094\n",
    "\n",
    "#intercept\n",
    "#alpha = intercptCoeficients.coef_ -- 0.00094438\n",
    "#beta = intercptCoeficients.intercept_ -- 1.61762938"
   ]
  },
  {
   "cell_type": "code",
   "execution_count": 46,
   "metadata": {},
   "outputs": [],
   "source": [
    "#reta1\n",
    "#alpha1 = rega1.coef_ -- 0.00019902\n",
    "#beta1 = rega1.intercept_ -- -0.00143789\n",
    "#alpha2 = regb1.coef_ -- 1.26965886\n",
    "#beta2 = regb1.intercept_ -- 0.68835151\n",
    "\n",
    "#reta2\n",
    "#alpha1 = rega2.coef_ -- 3.19033766e-05\n",
    "#beta1 = rega2.intercept_ -- -0.00021141\n",
    "#alpha2 = regb2.coef_ -- 0.88463853\n",
    "#beta2 = regb2.intercept_ -- 0.64703287\n",
    "\n",
    "#intercept\n",
    "#alpha = intercptCoeficients.coef_ -- 0.00089133\n",
    "#beta = intercptCoeficients.intercept_ -- 1.51503451"
   ]
  },
  {
   "cell_type": "code",
   "execution_count": 47,
   "metadata": {},
   "outputs": [],
   "source": [
    "# General Form to get a force in a position and speed\n",
    "#Force = (vel - (Beta1*Position) - Beta2) / Alpha1*Position + Alpha2"
   ]
  },
  {
   "cell_type": "code",
   "execution_count": 99,
   "metadata": {},
   "outputs": [
    {
     "data": {
      "text/plain": [
       "array([[0.89133482]])"
      ]
     },
     "execution_count": 99,
     "metadata": {},
     "output_type": "execute_result"
    }
   ],
   "source": [
    "intercptCoeficients.coef_"
   ]
  },
  {
   "cell_type": "code",
   "execution_count": 28,
   "metadata": {},
   "outputs": [],
   "source": [
    "def getPassParameters(dist, vel):\n",
    "  interception = (vel - 1.51503451) / 0.89133482\n",
    "  if interception >= dist:\n",
    "      return getPassParameters(dist, vel - 0.5)\n",
    "  else:\n",
    "      return vel  \n",
    "def getPassForce(dist):\n",
    "  alpha1 = 0.03190338\n",
    "  beta1 = -0.21140871\n",
    "  alpha2 = 0.88463853 \n",
    "  beta2 = 0.64703287\n",
    "  force = 0\n",
    "  idealforcetorecept = 4.5\n",
    "  idealforcetorecept = getPassParameters(dist, idealforcetorecept)\n",
    "  #if (getPassParameters(dist, idealforcetorecept) == True):\n",
    "  #  alpha1 = 0.19902217\n",
    "  #  beta1 = -1.43788717\n",
    "  #  alpha2 = 1.26965886\n",
    "  #  beta2 = 0.68835151\n",
    "  #else:\n",
    "  #  alpha1 = 0.03190338\n",
    "  #  beta1 = -0.21140871\n",
    "  #  alpha2 = 0.88463853 \n",
    "  #  beta2 = 0.64703287\n",
    "  #  a = 1\n",
    "  force = ((idealforcetorecept - (beta1 * dist) - beta2) / ((alpha1 * dist) + alpha2))\n",
    "  return force"
   ]
  },
  {
   "cell_type": "code",
   "execution_count": 97,
   "metadata": {},
   "outputs": [
    {
     "data": {
      "text/plain": [
       "array([[0.88463853]])"
      ]
     },
     "execution_count": 97,
     "metadata": {},
     "output_type": "execute_result"
    }
   ],
   "source": [
    "regb2.coef_"
   ]
  },
  {
   "cell_type": "code",
   "execution_count": 44,
   "metadata": {},
   "outputs": [
    {
     "data": {
      "text/plain": [
       "<AxesSubplot:xlabel='dist'>"
      ]
     },
     "execution_count": 44,
     "metadata": {},
     "output_type": "execute_result"
    },
    {
     "data": {
      "image/png": "[encoded data removed]",
      "text/plain": [
       "<Figure size 432x288 with 1 Axes>"
      ]
     },
     "metadata": {
      "needs_background": "light"
     },
     "output_type": "display_data"
    }
   ],
   "source": [
    "force = pd.DataFrame(columns=['dist', 'force', 'speed', 'reta'])\n",
    "count = 0\n",
    "for i in range(0,8):\n",
    "    force.loc[count] = [i, getPassForce(i),speed(i, getPassForce(i)), getPassParameters(i,4.5)]\n",
    "    count+=1\n",
    "force.plot(x = 'dist', y = 'force', kind = 'line')"
   ]
  },
  {
   "cell_type": "code",
   "execution_count": 37,
   "metadata": {},
   "outputs": [],
   "source": [
    "intercep = pd.DataFrame(columns = [\"dist\", \"vel\", \"int\"])\n",
    "for i in range(7):\n",
    "    intercep.loc[i] = [i,(float)((intercptCoeficients.coef_*i)+intercptCoeficients.intercept_), 3]"
   ]
  },
  {
   "cell_type": "code",
   "execution_count": 38,
   "metadata": {},
   "outputs": [
    {
     "data": {
      "text/plain": [
       "<AxesSubplot:xlabel='dist'>"
      ]
     },
     "execution_count": 38,
     "metadata": {},
     "output_type": "execute_result"
    },
    {
     "data": {
      "image/png": "[encoded data removed]",
      "text/plain": [
       "<Figure size 432x288 with 1 Axes>"
      ]
     },
     "metadata": {
      "needs_background": "light"
     },
     "output_type": "display_data"
    }
   ],
   "source": [
    "ax = intercep.plot(x = 'dist', y = 'vel', kind = 'line')\n",
    "intercep.plot(ax = ax, x = 'dist', y = 'int')"
   ]
  },
  {
   "cell_type": "code",
   "execution_count": 42,
   "metadata": {},
   "outputs": [
    {
     "name": "stdout",
     "output_type": "stream",
     "text": [
      "dist: 0 -> 1.9125546563379154\n",
      "dist: 1 -> 1.9999999868056173\n",
      "dist: 2 -> 2.9999999715956607\n",
      "dist: 3 -> 3.999999949132188\n",
      "dist: 4 -> 4.525447805634024\n",
      "dist: 5 -> 4.499999915482421\n",
      "dist: 6 -> 4.499999901788038\n",
      "dist: 7 -> 4.499999887793503\n"
     ]
    }
   ],
   "source": [
    "for i in range(10):\n",
    "    print(\"dist: \" + str(i)+\" -> \" + str(force.loc[i][2]))"
   ]
  },
  {
   "cell_type": "code",
   "execution_count": 49,
   "metadata": {},
   "outputs": [
    {
     "name": "stdout",
     "output_type": "stream",
     "text": [
      "dist: 0 -> 1.9125546563379154\n",
      "dist: 0.5 -> 1.4999999914496314\n",
      "dist: 1.0 -> 1.9999999868056173\n",
      "dist: 1.5 -> 2.4999999801538593\n",
      "dist: 2.0 -> 2.9999999715956607\n",
      "dist: 2.5 -> 3.499999961225622\n",
      "dist: 3.0 -> 3.999999949132188\n",
      "dist: 3.5 -> 4.7200036880108325\n",
      "dist: 4.0 -> 4.525447805634024\n",
      "dist: 4.5 -> 4.499999922208326\n"
     ]
    }
   ],
   "source": [
    "a = 0\n",
    "for i in range(10):\n",
    "    print(\"dist: \" + str(a) +\" -> \" + str(speed(a,getPassForce(a))))\n",
    "    a += 0.5"
   ]
  }
 ],
 "metadata": {
  "interpreter": {
   "hash": "916dbcbb3f70747c44a77c7bcd40155683ae19c65e1c03b4aa3499c5328201f1"
  },
  "kernelspec": {
   "display_name": "Python 3.10.4 64-bit",
   "language": "python",
   "name": "python3"
  },
  "language_info": {
   "codemirror_mode": {
    "name": "ipython",
    "version": 3
   },
   "file_extension": ".py",
   "mimetype": "text/x-python",
   "name": "python",
   "nbconvert_exporter": "python",
   "pygments_lexer": "ipython3",
   "version": "3.10.4"
  },
  "orig_nbformat": 4
 },
 "nbformat": 4,
 "nbformat_minor": 2
}
